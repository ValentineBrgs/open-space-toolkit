{
 "cells": [
  {
   "cell_type": "markdown",
   "id": "53b6e0ae-c9f8-485b-b8e4-bee9a0d47542",
   "metadata": {},
   "source": [
    "# Sanitize TLE"
   ]
  },
  {
   "cell_type": "markdown",
   "id": "bdfcb4c7-d70a-4fd4-8080-50db68cb36f2",
   "metadata": {},
   "source": [
    "This tutorial demonstrates how to adjust the NORAD ID, epoch, revolution number and checksum of a given TLE in an easy way using OSTk"
   ]
  },
  {
   "cell_type": "markdown",
   "id": "f0ed6f65-d573-42e0-8875-ed70927d8dd1",
   "metadata": {},
   "source": [
    "## Setup"
   ]
  },
  {
   "cell_type": "code",
   "execution_count": null,
   "id": "a8cbcb26-cc70-4b22-80fb-7f892fc28f4e",
   "metadata": {},
   "outputs": [],
   "source": [
    "import math\n",
    "from datetime import datetime, timezone, timedelta\n",
    "\n",
    "from ostk.physics.time import Scale\n",
    "from ostk.astrodynamics.trajectory.orbit.models.sgp4 import TLE"
   ]
  },
  {
   "cell_type": "markdown",
   "id": "b46b82a3-ec8a-46d4-b20e-9da59104e41f",
   "metadata": {},
   "source": [
    "---"
   ]
  },
  {
   "cell_type": "markdown",
   "id": "9056fd81-574f-4e83-840e-8134629e204d",
   "metadata": {},
   "source": [
    "Let's first define an initial TLE. The OSTk `TLE` Object can be constructed using strings for the different lines:"
   ]
  },
  {
   "cell_type": "code",
   "execution_count": null,
   "id": "656f9b8e-a75f-4bab-8cd9-3cf9777e09ef",
   "metadata": {},
   "outputs": [],
   "source": [
    "tle = (\n",
    "    '1 48911U 21059AJ  21214.07197420  .00000769  00000-0  47708-4 0  9992',\n",
    "    '2 48911  97.5172 342.3665 0013136 116.8209 243.4367 15.12582858  5634'\n",
    ")"
   ]
  },
  {
   "cell_type": "code",
   "execution_count": null,
   "id": "218e6376-4ff2-4952-bf4e-d91704dd7b82",
   "metadata": {},
   "outputs": [],
   "source": [
    "s = TLE(*tle)"
   ]
  },
  {
   "cell_type": "markdown",
   "id": "d5d93587-e1d7-4435-be9b-e516483d761a",
   "metadata": {},
   "source": [
    "Printing the `TLE` allows to check all the different parameters in a human readable way"
   ]
  },
  {
   "cell_type": "code",
   "execution_count": null,
   "id": "3ee69189-24c7-466d-93f4-13d396254ab3",
   "metadata": {},
   "outputs": [],
   "source": [
    "print(s)"
   ]
  },
  {
   "cell_type": "markdown",
   "id": "8f4a6199-080e-49d2-8712-7d78209147d0",
   "metadata": {},
   "source": [
    "All parameters of the TLE can be obtained individually using the following functions:"
   ]
  },
  {
   "cell_type": "code",
   "execution_count": null,
   "id": "70adfea5-737d-48a2-b4f5-3bd93a313bf6",
   "metadata": {},
   "outputs": [],
   "source": [
    "s.get_aop()\n",
    "s.get_b_star_drag_term()\n",
    "s.get_classification()\n",
    "s.get_eccentricity()\n",
    "s.get_element_set_number()\n",
    "s.get_ephemeris_type()\n",
    "s.get_inclination()\n",
    "s.get_international_designator()\n",
    "s.get_mean_anomaly()\n",
    "s.get_mean_motion()\n",
    "s.get_mean_motion_first_time_derivative_divided_by_two()\n",
    "s.get_mean_motion_second_time_derivative_divided_by_six()\n",
    "s.get_raan()\n",
    "s.get_revolution_number_at_epoch()\n",
    "s.get_epoch()"
   ]
  },
  {
   "cell_type": "markdown",
   "id": "269b3763-8b00-4e1c-9920-d62d5d681e25",
   "metadata": {},
   "source": [
    "It is also possible to re-extract the lines of the TLE and the associated checksums if needed"
   ]
  },
  {
   "cell_type": "code",
   "execution_count": null,
   "id": "22fba0a6-bf20-429d-b3d4-8011b9db63db",
   "metadata": {},
   "outputs": [],
   "source": [
    "s.get_satellite_name() ;\n",
    "s.get_satellite_number() ;\n",
    "s.get_first_line() ;\n",
    "s.get_first_line_checksum() ;\n",
    "s.get_second_line() ;\n",
    "s.get_second_line_checksum() ;"
   ]
  },
  {
   "cell_type": "markdown",
   "id": "9ce15bcb-68e2-48e4-8c6e-750dfac5bda2",
   "metadata": {},
   "source": [
    "Let's now pretend that the epoch or the NORAD ID of that TLE is wrong or that this TLE needs to be adapted to be used in further computation. This is a typical situation in orbit determination. OSTk provides some built-in methods to directly adjust the parameters of the `TLE` while ensuring it remains consistent (e.g. checksums are adapted)"
   ]
  },
  {
   "cell_type": "code",
   "execution_count": null,
   "id": "056b75ca-45ba-48e0-a097-3d21ca0cd2dc",
   "metadata": {},
   "outputs": [],
   "source": [
    "s.set_satellite_number(99993)\n",
    "s.set_revolution_number_at_epoch(487)"
   ]
  },
  {
   "cell_type": "markdown",
   "id": "b94858c0-499c-43ba-98ca-8ea1fa039993",
   "metadata": {},
   "source": [
    "Now, let's check the adapted versio of the TLE, modified in place:"
   ]
  },
  {
   "cell_type": "code",
   "execution_count": null,
   "id": "7ddad4fe-d6d2-4462-9323-14679b1919f4",
   "metadata": {},
   "outputs": [],
   "source": [
    "print(s)"
   ]
  },
  {
   "cell_type": "markdown",
   "id": "90ee11eb-a6f8-43a5-bd83-97a0b9df08aa",
   "metadata": {},
   "source": [
    "The modified version of the TLE is now ready to be ingested in your system with the proper ID and parameters or to be used for further computation"
   ]
  },
  {
   "cell_type": "markdown",
   "id": "0ff24aa9-4405-4aaf-b22f-d19231ca5fdd",
   "metadata": {},
   "source": [
    "---"
   ]
  }
 ],
 "metadata": {
  "kernelspec": {
   "display_name": "Python 3",
   "language": "python",
   "name": "python3"
  },
  "language_info": {
   "codemirror_mode": {
    "name": "ipython",
    "version": 3
   },
   "file_extension": ".py",
   "mimetype": "text/x-python",
   "name": "python",
   "nbconvert_exporter": "python",
   "pygments_lexer": "ipython3",
   "version": "3.9.2"
  }
 },
 "nbformat": 4,
 "nbformat_minor": 5
}
