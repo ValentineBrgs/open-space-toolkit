{
 "cells": [
  {
   "cell_type": "markdown",
   "metadata": {},
   "source": [
    "# Compare TLEs"
   ]
  },
  {
   "cell_type": "markdown",
   "metadata": {},
   "source": [
    "In this notebook, we will demonstrate how to compare the trajectories defined by two distinct TLEs"
   ]
  },
  {
   "cell_type": "markdown",
   "metadata": {},
   "source": [
    "## Setup"
   ]
  },
  {
   "cell_type": "code",
   "execution_count": null,
   "metadata": {},
   "outputs": [],
   "source": [
    "import datetime\n",
    "\n",
    "import numpy as np\n",
    "import pandas as pd\n",
    "\n",
    "import plotly.graph_objs as go\n",
    "from plotly.subplots import make_subplots\n",
    "\n",
    "from ostk.mathematics.objects import RealInterval\n",
    "\n",
    "from ostk.physics.units import Length\n",
    "from ostk.physics.units import Angle\n",
    "from ostk.physics.time import Scale\n",
    "from ostk.physics.time import Instant\n",
    "from ostk.physics.time import Duration\n",
    "from ostk.physics.time import Interval\n",
    "from ostk.physics.time import DateTime\n",
    "from ostk.physics.coordinate import Position\n",
    "from ostk.physics.coordinate.spherical import LLA\n",
    "from ostk.physics.coordinate.spherical import AER\n",
    "from ostk.physics.coordinate import Frame\n",
    "from ostk.physics import Environment\n",
    "from ostk.physics.environment.objects.celestial_bodies import Earth\n",
    "\n",
    "from ostk.astrodynamics import Trajectory\n",
    "from ostk.astrodynamics.trajectory import Orbit\n",
    "from ostk.astrodynamics.trajectory.orbit.models import SGP4\n",
    "from ostk.astrodynamics.trajectory.orbit.models.sgp4 import TLE\n",
    "from ostk.astrodynamics import Access\n",
    "from ostk.astrodynamics.access import Generator as AccessGenerator"
   ]
  },
  {
   "cell_type": "code",
   "execution_count": null,
   "metadata": {},
   "outputs": [],
   "source": [
    "def lla_from_state (state):\n",
    "    \n",
    "    lla = lla_from_position(state.get_position(), state.get_instant())\n",
    "\n",
    "    return [\n",
    "        float(lla.get_latitude().in_degrees()),\n",
    "        float(lla.get_longitude().in_degrees()),\n",
    "        float(lla.get_altitude().in_meters())\n",
    "    ]\n",
    "\n",
    "def lla_from_position (position, instant):\n",
    "    \n",
    "    return LLA.cartesian(\n",
    "        position.in_frame(Frame.ITRF(), instant).get_coordinates(),\n",
    "        Earth.equatorial_radius,\n",
    "        Earth.flattening\n",
    "    )\n",
    "\n",
    "def position_from_lla (lla):\n",
    "    \n",
    "    return Position.meters(\n",
    "        lla.to_cartesian(Earth.equatorial_radius, Earth.flattening),\n",
    "        Frame.ITRF()\n",
    "    )\n",
    "\n",
    "def parse_ground_station_lla (ground_station):\n",
    "    \n",
    "    return LLA(\n",
    "        Angle.degrees(ground_station['latitude']),\n",
    "        Angle.degrees(ground_station['longitude']),\n",
    "        Length.meters(ground_station['altitude'])\n",
    "    )\n",
    "\n",
    "def compute_aer (instant, from_position, to_position):\n",
    "    \n",
    "    from_lla = lla_from_position(from_position, instant)\n",
    "    \n",
    "    ned_frame = earth.get_frame_at(from_lla, Earth.FrameType.NED)\n",
    "\n",
    "    from_position_NED = from_position.in_frame(ned_frame, instant)\n",
    "    to_position_NED = to_position.in_frame(ned_frame, instant)\n",
    "\n",
    "    aer = AER.from_position_to_position(from_position_NED, to_position_NED, True)\n",
    "            \n",
    "    return [\n",
    "        float(aer.get_azimuth().in_degrees()),\n",
    "        float(aer.get_elevation().in_degrees()),\n",
    "        float(aer.get_range().in_meters())\n",
    "    ]\n",
    "\n",
    "def compute_time_lla_aer_state (state, ground_station_position):\n",
    "    \n",
    "    instant = state.get_instant()\n",
    "    \n",
    "    lla = lla_from_state(state)\n",
    "    aer = compute_aer(instant, ground_station_position, state.get_position().in_frame(Frame.ITRF(), state.get_instant()))\n",
    "\n",
    "    return [instant, lla[0], lla[1], lla[2], aer[0], aer[1], aer[2]]\n",
    "\n",
    "def compute_trajectory_geometry (trajectory, interval):\n",
    "\n",
    "    return [\n",
    "        lla_from_state(state)\n",
    "        for state in trajectory.get_states_at(interval.generate_grid(Duration.minutes(1.0)))\n",
    "    ]\n",
    "\n",
    "def compute_access_geometry (orbit, access, ground_station):\n",
    "    \n",
    "    ground_station_position = position_from_lla(parse_ground_station_lla(ground_station))\n",
    "\n",
    "    return [\n",
    "        compute_time_lla_aer_state(state, ground_station_position)\n",
    "        for state in orbit.get_states_at(access.get_interval().generate_grid(Duration.seconds(1.0)))\n",
    "    ]\n",
    "\n",
    "def convert_state (instant, state):\n",
    "    \n",
    "    lla = LLA.cartesian(state.get_position().in_frame(Frame.ITRF(), state.get_instant()).get_coordinates(), Earth.equatorial_radius, Earth.flattening)\n",
    "    \n",
    "    return [\n",
    "        repr(instant),\n",
    "        float(instant.get_modified_julian_date(Scale.UTC)),\n",
    "        *state.get_position().get_coordinates().transpose().tolist(),\n",
    "        *state.get_velocity().get_coordinates().transpose().tolist(),\n",
    "        float(lla.get_latitude().in_degrees()),\n",
    "        float(lla.get_longitude().in_degrees()),\n",
    "        float(lla.get_altitude().in_meters())\n",
    "    ]\n",
    "\n",
    "def generate_orbit_df (orbit, interval, step):\n",
    "    \n",
    "    if isinstance(interval, tuple):\n",
    "        interval = Interval.closed(interval[0], interval[1]).generate_grid(step)\n",
    "    \n",
    "    orbit_data = [\n",
    "        convert_state(instant, orbit.get_state_at(instant))\n",
    "        for instant in interval\n",
    "    ]\n",
    "\n",
    "    return pd.DataFrame(\n",
    "        orbit_data,\n",
    "        columns = [\n",
    "            '$Time^{UTC}$',\n",
    "            '$MJD^{UTC}$',\n",
    "            '$x_{x}^{ECI}$',\n",
    "            '$x_{y}^{ECI}$',\n",
    "            '$x_{z}^{ECI}$',\n",
    "            '$v_{x}^{ECI}$',\n",
    "            '$v_{y}^{ECI}$',\n",
    "            '$v_{z}^{ECI}$',\n",
    "            '$Latitude$',\n",
    "            '$Longitude$',\n",
    "            '$Altitude$'\n",
    "        ]\n",
    "    )"
   ]
  },
  {
   "cell_type": "markdown",
   "metadata": {},
   "source": [
    "---"
   ]
  },
  {
   "cell_type": "markdown",
   "metadata": {},
   "source": [
    "## Simulation Configuration"
   ]
  },
  {
   "cell_type": "markdown",
   "metadata": {},
   "source": [
    "We define the analysis interval:"
   ]
  },
  {
   "cell_type": "code",
   "execution_count": null,
   "metadata": {},
   "outputs": [],
   "source": [
    "start_instant = Instant.date_time(DateTime.parse('2021-06-30T20:03:55.190', DateTime.Format.ISO8601), Scale.UTC)\n",
    "\n",
    "analysis_duration = Duration.hours(10.0)\n",
    "step = Duration.minutes(1.0)"
   ]
  },
  {
   "cell_type": "markdown",
   "metadata": {},
   "source": [
    "Let's bootstrap the physics environment:"
   ]
  },
  {
   "cell_type": "code",
   "execution_count": null,
   "metadata": {},
   "outputs": [],
   "source": [
    "environment = Environment.default()\n",
    "earth = environment.access_celestial_object_with_name('Earth')"
   ]
  },
  {
   "cell_type": "code",
   "execution_count": null,
   "metadata": {},
   "outputs": [],
   "source": [
    "tle_1 = TLE(\n",
    "    '1 99993U          21181.83605544  .00000000  00000-0  00000-0 0 00000',\n",
    "    '2 99993 097.4983 301.8737 0009947 257.2267 135.9820 15.12223922000018'\n",
    ")\n",
    "\n",
    "orbit_1 = Orbit(SGP4(tle_1), earth)"
   ]
  },
  {
   "cell_type": "code",
   "execution_count": null,
   "metadata": {},
   "outputs": [],
   "source": [
    "tle_2 = TLE(\n",
    "    '1 70326C 21058AB  21181.83605544  .00084574  00000-0  49049-2 0    01',\n",
    "    '2 70326  97.5010 301.8743 0009600 257.4138 135.7939 15.12185939    15'\n",
    ")\n",
    "\n",
    "orbit_2 = Orbit(SGP4(tle_2), earth)"
   ]
  },
  {
   "cell_type": "markdown",
   "metadata": {},
   "source": [
    "Generate a time grid:"
   ]
  },
  {
   "cell_type": "code",
   "execution_count": null,
   "metadata": {},
   "outputs": [],
   "source": [
    "instants = Interval.closed(start_instant, start_instant + analysis_duration).generate_grid(step)"
   ]
  },
  {
   "cell_type": "markdown",
   "metadata": {},
   "source": [
    "Ground stations:"
   ]
  },
  {
   "cell_type": "code",
   "execution_count": null,
   "metadata": {},
   "outputs": [],
   "source": [
    "ground_stations = {\n",
    "    'Ground Station 1': {\n",
    "        'identifier': 'GS1',\n",
    "        'latitude': 78.23164,\n",
    "        'longitude': 15.37725,\n",
    "        'altitude': 483.0,\n",
    "        'min_elevation_angle': 5.0,\n",
    "    },\n",
    "    'Ground Station 2': {\n",
    "        'identifier': 'GS2',\n",
    "        'latitude': -72.0021,\n",
    "        'longitude': 2.5251,\n",
    "        'altitude': 1401.0,\n",
    "        'min_elevation_angle': 5.0,\n",
    "    }\n",
    "}"
   ]
  },
  {
   "cell_type": "markdown",
   "metadata": {},
   "source": [
    "---"
   ]
  },
  {
   "cell_type": "markdown",
   "metadata": {},
   "source": [
    "## Comparison"
   ]
  },
  {
   "cell_type": "code",
   "execution_count": null,
   "metadata": {},
   "outputs": [],
   "source": [
    "orbit_1_df = generate_orbit_df(orbit_1, instants, step)\n",
    "orbit_2_df = generate_orbit_df(orbit_2, instants, step)"
   ]
  },
  {
   "cell_type": "markdown",
   "metadata": {},
   "source": [
    "Plot difference in position/velocity norms over the analysis interval."
   ]
  },
  {
   "cell_type": "code",
   "execution_count": null,
   "metadata": {},
   "outputs": [],
   "source": [
    "dx_ECI_norm = np.linalg.norm(\n",
    "    orbit_1_df[['$x_{x}^{ECI}$', '$x_{y}^{ECI}$', '$x_{z}^{ECI}$']].to_numpy()\n",
    "    - orbit_2_df[['$x_{x}^{ECI}$', '$x_{y}^{ECI}$', '$x_{z}^{ECI}$']].to_numpy(),\n",
    "    axis = 1\n",
    ") / 1e3\n",
    "\n",
    "dv_ECI_norm = np.linalg.norm(\n",
    "    orbit_1_df[['$v_{x}^{ECI}$', '$v_{y}^{ECI}$', '$v_{z}^{ECI}$']].to_numpy()\n",
    "    - orbit_2_df[['$v_{x}^{ECI}$', '$v_{y}^{ECI}$', '$v_{z}^{ECI}$']].to_numpy(),\n",
    "    axis = 1\n",
    ") / 1e3\n",
    "\n",
    "print(f'Min. |Δx_ECI|: {min(dx_ECI_norm):.3f} [km]')\n",
    "print(f'Avg. |Δx_ECI|: {np.mean(dx_ECI_norm):.3f} [km]')\n",
    "print(f'Max. |Δx_ECI|: {max(dx_ECI_norm):.3f} [km]')\n",
    "print('\\n')\n",
    "print(f'Min. |Δv_ECI|: {min(dv_ECI_norm):.3f} [km/s]')\n",
    "print(f'Avg. |Δv_ECI|: {np.mean(dv_ECI_norm):.3f} [km/s]')\n",
    "print(f'Max. |Δv_ECI|: {max(dv_ECI_norm):.3f} [km/s]')\n",
    "\n",
    "def mean(x):\n",
    "    return np.mean(x) * np.ones(np.shape(x))\n",
    "\n",
    "data = [\n",
    "    dx_ECI_norm,\n",
    "    dv_ECI_norm\n",
    "]\n",
    "\n",
    "figure = go.FigureWidget(make_subplots(rows = len(data), cols = 1))\n",
    "\n",
    "for (i, d) in enumerate(data):\n",
    "\n",
    "    figure.append_trace(\n",
    "        go.Scatter(\n",
    "            y = d,\n",
    "            mode = 'lines+markers',\n",
    "            marker_size = 3,\n",
    "            marker_symbol = 'cross',\n",
    "            line_width = 1,\n",
    "        ),\n",
    "        row = i + 1,\n",
    "        col = 1\n",
    "    )\n",
    "\n",
    "    figure.append_trace(\n",
    "        go.Scatter(\n",
    "            y = mean(d),\n",
    "            mode = 'lines',\n",
    "            line = dict(\n",
    "                color = 'rgb(0, 0, 0)',\n",
    "                width = 1\n",
    "            ),\n",
    "        ),\n",
    "        row = i + 1,\n",
    "        col = 1\n",
    "    )\n",
    "\n",
    "figure.update_xaxes(title_text = 'Time (min)', row = len(data), col = 1)\n",
    "figure.update_yaxes(title_text = '|Δx_ECI| (km)', row = 1, col = 1)\n",
    "figure.update_yaxes(title_text = '|Δv_ECI| (km/s)', row = 2, col = 1)\n",
    "\n",
    "figure.update_layout(showlegend = False)\n",
    "\n",
    "figure.show()"
   ]
  },
  {
   "cell_type": "markdown",
   "metadata": {},
   "source": [
    "Ground Station Accesses:"
   ]
  },
  {
   "cell_type": "code",
   "execution_count": null,
   "metadata": {},
   "outputs": [],
   "source": [
    "orbit_1_accesses = []\n",
    "orbit_2_accesses = []\n",
    "\n",
    "access_analysis_interval = Interval.closed(\n",
    "    start_instant,\n",
    "    start_instant + analysis_duration\n",
    ")\n",
    "\n",
    "for (ground_station_name, ground_station) in ground_stations.items():\n",
    "    \n",
    "    # Groud station position\n",
    "    lla = parse_ground_station_lla(ground_station)\n",
    "    position = position_from_lla(lla)\n",
    "    \n",
    "    # Access constraints\n",
    "    azimuth_range = RealInterval.closed(0.0, 360.0) # [deg]\n",
    "    elevation_range = RealInterval.closed(ground_station['min_elevation_angle'], 90.0) # [deg]\n",
    "    range_range = RealInterval.closed(0.0, 10000e3) # [m]\n",
    "\n",
    "    # Access generator with Azimuth-Range-Elevation constraints\n",
    "    access_generator = AccessGenerator.aer_ranges(azimuth_range, elevation_range, range_range, environment)\n",
    "    \n",
    "    # Generate Accesses\n",
    "    orbit_1_accesses += [\n",
    "        (ground_station_name, ground_station, access)\n",
    "        for access in access_generator.compute_accesses(access_analysis_interval, Trajectory.position(position), orbit_1)\n",
    "    ]\n",
    "    \n",
    "    orbit_2_accesses += [\n",
    "        (ground_station_name, ground_station, access)\n",
    "        for access in access_generator.compute_accesses(access_analysis_interval, Trajectory.position(position), orbit_2)\n",
    "    ]\n",
    "    \n",
    "diff_accesses_df = pd.DataFrame(\n",
    "    [\n",
    "        [\n",
    "            ground_station_name,\n",
    "            abs(orbit_1_access.get_acquisition_of_signal().get_date_time(Scale.UTC) - orbit_2_access.get_acquisition_of_signal().get_date_time(Scale.UTC)),\n",
    "            abs(orbit_1_access.get_time_of_closest_approach().get_date_time(Scale.UTC) - orbit_2_access.get_time_of_closest_approach().get_date_time(Scale.UTC)),\n",
    "            abs(orbit_1_access.get_loss_of_signal().get_date_time(Scale.UTC) - orbit_2_access.get_loss_of_signal().get_date_time(Scale.UTC)),\n",
    "            abs(datetime.timedelta(seconds = float(orbit_1_access.get_duration().in_seconds())) - datetime.timedelta(seconds = float(orbit_2_access.get_duration().in_seconds())))\n",
    "        ]\n",
    "        for ((ground_station_name, ground_station, orbit_1_access), (_, _, orbit_2_access)) in zip(orbit_1_accesses, orbit_2_accesses)\n",
    "    ],\n",
    "    columns = [\n",
    "        'Ground Station',\n",
    "        '|ΔAOS|',\n",
    "        '|ΔTCA|',\n",
    "        '|ΔLOS|',\n",
    "        '|ΔDuration|'\n",
    "    ]\n",
    ")"
   ]
  },
  {
   "cell_type": "code",
   "execution_count": null,
   "metadata": {},
   "outputs": [],
   "source": [
    "diff_accesses_df"
   ]
  },
  {
   "cell_type": "markdown",
   "metadata": {},
   "source": [
    "---"
   ]
  },
  {
   "cell_type": "markdown",
   "metadata": {},
   "source": [
    "## Visualization"
   ]
  },
  {
   "cell_type": "markdown",
   "metadata": {},
   "source": [
    "Orbit:"
   ]
  },
  {
   "cell_type": "code",
   "execution_count": null,
   "metadata": {},
   "outputs": [],
   "source": [
    "orbit_2_df.head()"
   ]
  },
  {
   "cell_type": "code",
   "execution_count": null,
   "metadata": {},
   "outputs": [],
   "source": [
    "access_geometry_dfs = [\n",
    "    pd.DataFrame(\n",
    "        compute_access_geometry(orbit_2, access, ground_station),\n",
    "         columns = [\n",
    "             'Time',\n",
    "             'Latitude',\n",
    "             'Longitude',\n",
    "             'Altitude',\n",
    "             'Azimuth',\n",
    "             'Elevation',\n",
    "             'Range'\n",
    "         ]\n",
    "    )\n",
    "    for (_, ground_station, access) in orbit_2_accesses\n",
    "]"
   ]
  },
  {
   "cell_type": "markdown",
   "metadata": {},
   "source": [
    "2D plot, over **World Map**:"
   ]
  },
  {
   "cell_type": "code",
   "execution_count": null,
   "metadata": {},
   "outputs": [],
   "source": [
    "figure = go.Figure(\n",
    "    data = [\n",
    "        go.Scattergeo(\n",
    "            lon = orbit_2_df['$Longitude$'],\n",
    "            lat = orbit_2_df['$Latitude$'],\n",
    "            mode = 'lines',\n",
    "            line = go.scattergeo.Line(\n",
    "                width = 1,\n",
    "                color = 'gray'\n",
    "            )\n",
    "        ),\n",
    "        *[\n",
    "            go.Scattergeo(\n",
    "                lon = [ground_station['longitude']],\n",
    "                lat = [ground_station['latitude']],\n",
    "                text = ground_station['identifier'],\n",
    "                textposition = 'middle right',\n",
    "                mode = 'markers+text',\n",
    "                marker = dict(\n",
    "                    size = 10,\n",
    "                    color = 'orange'\n",
    "                )\n",
    "            )\n",
    "            for ground_station in ground_stations.values()\n",
    "        ],\n",
    "        *[\n",
    "            go.Scattergeo(\n",
    "                lon = access_geometry_df['Longitude'],\n",
    "                lat = access_geometry_df['Latitude'],\n",
    "                mode = 'lines',\n",
    "                line = dict(\n",
    "                    width = 2,\n",
    "                    color = 'red',\n",
    "                )\n",
    "            )\n",
    "            for access_geometry_df in access_geometry_dfs\n",
    "        ]\n",
    "    ],\n",
    "    \n",
    "    layout = go.Layout(\n",
    "        title = None,\n",
    "        showlegend = False,\n",
    "        height=1000,\n",
    "        geo = go.layout.Geo(\n",
    "            showland = True,\n",
    "            landcolor = 'rgb(243, 243, 243)',\n",
    "            countrycolor = 'rgb(204, 204, 204)'\n",
    "        )\n",
    "    )\n",
    ")\n",
    "\n",
    "figure.show()"
   ]
  },
  {
   "cell_type": "markdown",
   "metadata": {},
   "source": [
    "3D plot, in **Earth Fixed** frame:"
   ]
  },
  {
   "cell_type": "code",
   "execution_count": null,
   "metadata": {},
   "outputs": [],
   "source": [
    "figure = go.Figure(\n",
    "    data = [\n",
    "        go.Scattergeo(\n",
    "            lon = orbit_2_df['$Longitude$'],\n",
    "            lat = orbit_2_df['$Latitude$'],\n",
    "            mode = 'lines',\n",
    "            line = go.scattergeo.Line(\n",
    "                width = 1,\n",
    "                color = 'rgba(255, 0, 0, 0.5)'\n",
    "            )\n",
    "        ),\n",
    "        *[\n",
    "            go.Scattergeo(\n",
    "                lon = [ground_station['longitude']],\n",
    "                lat = [ground_station['latitude']],\n",
    "                text = ground_station['identifier'],\n",
    "                textposition = 'middle right',\n",
    "                mode = 'markers+text',\n",
    "                marker = dict(\n",
    "                    size = 10,\n",
    "                    color = 'orange'\n",
    "                )\n",
    "            )\n",
    "            for ground_station in ground_stations.values()\n",
    "        ],\n",
    "        *[\n",
    "            go.Scattergeo(\n",
    "                lon = access_geometry_df['Longitude'],\n",
    "                lat = access_geometry_df['Latitude'],\n",
    "                mode = 'lines',\n",
    "                line = dict(\n",
    "                    width = 2,\n",
    "                    color = 'red',\n",
    "                )\n",
    "            )\n",
    "            for access_geometry_df in access_geometry_dfs\n",
    "        ]\n",
    "    ],\n",
    "    layout = go.Layout(\n",
    "        title = None,\n",
    "        showlegend = False,\n",
    "        width = 800,\n",
    "        height = 800,\n",
    "        geo = go.layout.Geo(\n",
    "            showland = True,\n",
    "            showlakes = True,\n",
    "            showcountries = False,\n",
    "            showocean = True,\n",
    "            countrywidth = 0.0,\n",
    "            landcolor = 'rgb(100, 100, 100)',\n",
    "            lakecolor = 'rgb(240, 240, 240)',\n",
    "            oceancolor = 'rgb(240, 240, 240)',\n",
    "            projection = dict( \n",
    "                type = 'orthographic',\n",
    "                rotation = dict(\n",
    "                    lon = -100,\n",
    "                    lat = 40,\n",
    "                    roll = 0\n",
    "                )            \n",
    "            ),\n",
    "            lonaxis = dict( \n",
    "                showgrid = True,\n",
    "                gridcolor = 'rgb(102, 102, 102)',\n",
    "                gridwidth = 0.5\n",
    "            ),\n",
    "            lataxis = dict( \n",
    "                showgrid = True,\n",
    "                gridcolor = 'rgb(102, 102, 102)',\n",
    "                gridwidth = 0.5\n",
    "            )\n",
    "        )\n",
    "    )\n",
    ")\n",
    "\n",
    "figure.show()"
   ]
  },
  {
   "cell_type": "markdown",
   "metadata": {},
   "source": [
    "---"
   ]
  }
 ],
 "metadata": {
  "jupytext": {
   "encoding": "# -*- coding: utf-8 -*-",
   "formats": "ipynb,py:light"
  },
  "kernelspec": {
   "display_name": "Python 3",
   "language": "python",
   "name": "python3"
  },
  "language_info": {
   "codemirror_mode": {
    "name": "ipython",
    "version": 3
   },
   "file_extension": ".py",
   "mimetype": "text/x-python",
   "name": "python",
   "nbconvert_exporter": "python",
   "pygments_lexer": "ipython3",
   "version": "3.9.2"
  }
 },
 "nbformat": 4,
 "nbformat_minor": 4
}
