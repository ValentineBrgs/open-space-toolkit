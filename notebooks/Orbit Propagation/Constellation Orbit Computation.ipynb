{
 "cells": [
  {
   "cell_type": "markdown",
   "metadata": {},
   "source": [
    "# Constellation Orbit Computation"
   ]
  },
  {
   "cell_type": "markdown",
   "metadata": {},
   "source": [
    "This tutorial demonstrates how to generate satellite orbits for a constellation with pattern Walker-Delta"
   ]
  },
  {
   "cell_type": "markdown",
   "metadata": {},
   "source": [
    "## Setup"
   ]
  },
  {
   "cell_type": "code",
   "execution_count": null,
   "metadata": {},
   "outputs": [],
   "source": [
    "import numpy as np\n",
    "import pandas as pd\n",
    "\n",
    "import plotly.graph_objs as go\n",
    "\n",
    "from ostk.physics.units import Length\n",
    "from ostk.physics.units import Angle\n",
    "from ostk.physics.time import Scale\n",
    "from ostk.physics.time import Instant\n",
    "from ostk.physics.time import Duration\n",
    "from ostk.physics.time import Interval\n",
    "from ostk.physics.time import DateTime\n",
    "from ostk.physics.coordinate.spherical import LLA\n",
    "from ostk.physics.coordinate import Frame\n",
    "from ostk.physics import Environment\n",
    "from ostk.physics.environment.objects.celestial_bodies import Earth\n",
    "\n",
    "from ostk.astrodynamics import Trajectory\n",
    "from ostk.astrodynamics.trajectory import Orbit\n",
    "from ostk.astrodynamics.trajectory.orbit.models import Kepler\n",
    "from ostk.astrodynamics.trajectory.orbit.models.kepler import COE\n",
    "from ostk.astrodynamics.trajectory.orbit.models import SGP4\n",
    "from ostk.astrodynamics.trajectory.orbit.models.sgp4 import TLE"
   ]
  },
  {
   "cell_type": "markdown",
   "metadata": {},
   "source": [
    "---"
   ]
  },
  {
   "cell_type": "markdown",
   "metadata": {},
   "source": [
    "### Define Simulation Characteristics"
   ]
  },
  {
   "cell_type": "code",
   "execution_count": null,
   "metadata": {},
   "outputs": [],
   "source": [
    "epoch = Instant.date_time(DateTime(2022, 1, 1, 0, 0, 0), Scale.UTC)"
   ]
  },
  {
   "cell_type": "code",
   "execution_count": null,
   "metadata": {},
   "outputs": [],
   "source": [
    "environment = Environment.default()\n",
    "earth = environment.access_celestial_object_with_name('Earth')"
   ]
  },
  {
   "cell_type": "markdown",
   "metadata": {},
   "source": [
    "### Define Constellation Characteristics"
   ]
  },
  {
   "cell_type": "code",
   "execution_count": null,
   "metadata": {},
   "outputs": [],
   "source": []
  },
  {
   "cell_type": "code",
   "execution_count": null,
   "metadata": {},
   "outputs": [],
   "source": [
    "number_of_satellites = 24\n",
    "number_of_planes = 4\n",
    "semi_major_axis = Length.kilometers(7000.0)\n",
    "inclination = Angle.degrees(70.0)\n",
    "eccentricity = 0.00001\n",
    "phasing = 0.0"
   ]
  },
  {
   "cell_type": "code",
   "execution_count": null,
   "metadata": {},
   "outputs": [],
   "source": [
    "def get_walker_delta_orbits (number_of_satellites, \n",
    "                             number_of_planes,\n",
    "                             epoch,\n",
    "                             semi_major_axis,\n",
    "                             inclination,\n",
    "                             eccentricity,\n",
    "                             phasing):\n",
    "    \n",
    "    '''\n",
    "    Returns the orbits of the different satellites for a Walker-Delta constellation pattern.\n",
    "    '''\n",
    "    \n",
    "    orbits = {}\n",
    "    \n",
    "    # Get number of Satellites per plane\n",
    "    number_sat_per_plane = number_of_satellites // number_of_planes\n",
    "    \n",
    "    # Define perturbation type in Kepler model\n",
    "    perturbation_type = Kepler.PerturbationType.J4\n",
    "    \n",
    "    # Assume equally spaced planes and equally phased satellites in each plane (Walker constellation)\n",
    "    raan = 0.0\n",
    "    aop = 0.0\n",
    "    true_anomaly = 0.0\n",
    "    satellite_counter = 1\n",
    "    \n",
    "    for i in range(number_of_planes):\n",
    "        \n",
    "        for j in range(number_sat_per_plane):\n",
    "            \n",
    "            coe = COE(\n",
    "                semi_major_axis,\n",
    "                eccentricity,\n",
    "                inclination,\n",
    "                Angle.degrees(raan),\n",
    "                Angle.degrees(aop),\n",
    "                Angle.degrees(true_anomaly)\n",
    "            )\n",
    "            \n",
    "            kepler = Kepler(\n",
    "                coe,\n",
    "                epoch,\n",
    "                earth,\n",
    "                perturbation_type\n",
    "            )\n",
    "\n",
    "            orbits[satellite_counter] = Orbit(kepler, earth)\n",
    "\n",
    "            true_anomaly += 360.0 / number_sat_per_plane\n",
    "            satellite_counter += 1\n",
    "\n",
    "        true_anomaly += phasing * 360 / number_of_satellites\n",
    "        raan += 360 / number_of_planes\n",
    "        \n",
    "    return orbits"
   ]
  },
  {
   "cell_type": "code",
   "execution_count": null,
   "metadata": {},
   "outputs": [],
   "source": [
    "orbits = get_walker_delta_orbits (\n",
    "    number_of_satellites, \n",
    "    number_of_planes,\n",
    "    epoch,\n",
    "    semi_major_axis,\n",
    "    inclination,\n",
    "    eccentricity,\n",
    "    phasing\n",
    ")"
   ]
  },
  {
   "cell_type": "markdown",
   "metadata": {},
   "source": [
    "### Propagate Orbits"
   ]
  },
  {
   "cell_type": "code",
   "execution_count": null,
   "metadata": {},
   "outputs": [],
   "source": [
    "start_instant = Instant.date_time(DateTime(2022, 1, 1, 0, 0, 0), Scale.UTC)\n",
    "end_instant = Instant.date_time(DateTime(2022, 1, 1, 0, 30, 0), Scale.UTC)"
   ]
  },
  {
   "cell_type": "code",
   "execution_count": null,
   "metadata": {},
   "outputs": [],
   "source": [
    "interval = Interval.closed(start_instant, end_instant)"
   ]
  },
  {
   "cell_type": "code",
   "execution_count": null,
   "metadata": {},
   "outputs": [],
   "source": [
    "step = Duration.minutes(1.0)"
   ]
  },
  {
   "cell_type": "code",
   "execution_count": null,
   "metadata": {},
   "outputs": [],
   "source": [
    "instants = interval.generate_grid(step)"
   ]
  },
  {
   "cell_type": "code",
   "execution_count": null,
   "metadata": {
    "tags": []
   },
   "outputs": [],
   "source": [
    "def convert_state (instant, state):\n",
    "    \n",
    "    lla = LLA.cartesian(\n",
    "        state.get_position().in_frame(Frame.ITRF(), state.get_instant()).get_coordinates(), \n",
    "        Earth.equatorial_radius, \n",
    "        Earth.flattening\n",
    "    )\n",
    "    \n",
    "    return [\n",
    "                repr(instant),\n",
    "                float(instant.get_modified_julian_date(Scale.UTC)),\n",
    "                *state.get_position().get_coordinates().tolist(),\n",
    "                *state.get_velocity().get_coordinates().tolist(),\n",
    "                float(lla.get_latitude().in_degrees()),\n",
    "                float(lla.get_longitude().in_degrees()),\n",
    "                float(lla.get_altitude().in_meters())\n",
    "            ]"
   ]
  },
  {
   "cell_type": "code",
   "execution_count": null,
   "metadata": {},
   "outputs": [],
   "source": [
    "def propagate_kepler_orbit (orbit, instants):\n",
    "    \n",
    "    states = [[instant, orbit.get_state_at(instant)] for instant in instants]\n",
    "    orbit_data = [convert_state(instant, state) for [instant, state] in states]\n",
    "    \n",
    "    orbit_df = pd.DataFrame(\n",
    "        orbit_data, \n",
    "        columns = [\n",
    "            '$Time^{UTC}$', \n",
    "            '$MJD^{UTC}$', \n",
    "            '$x_{x}^{ECI}$', \n",
    "            '$x_{y}^{ECI}$', \n",
    "            '$x_{z}^{ECI}$', \n",
    "            '$v_{x}^{ECI}$', \n",
    "            '$v_{y}^{ECI}$', \n",
    "            '$v_{z}^{ECI}$', \n",
    "            '$Latitude$', \n",
    "            '$Longitude$', \n",
    "            '$Altitude$'\n",
    "        ]\n",
    "    )\n",
    "    \n",
    "    return orbit_df"
   ]
  },
  {
   "cell_type": "code",
   "execution_count": null,
   "metadata": {},
   "outputs": [],
   "source": [
    "orbit_dfs = [propagate_kepler_orbit(orbit[1], instants) for orbit in orbits.items()]"
   ]
  },
  {
   "cell_type": "markdown",
   "metadata": {},
   "source": [
    "### Output"
   ]
  },
  {
   "cell_type": "markdown",
   "metadata": {},
   "source": [
    "2D plot, over **World Map**:"
   ]
  },
  {
   "cell_type": "code",
   "execution_count": null,
   "metadata": {
    "tags": []
   },
   "outputs": [],
   "source": [
    "data = []\n",
    "\n",
    "for satellite_index in range(number_of_satellites):\n",
    "    \n",
    "    orbit_df = orbit_dfs[satellite_index]\n",
    "    \n",
    "    data.append(\n",
    "        go.Scattergeo(\n",
    "            lon = orbit_df['$Longitude$'],\n",
    "            lat = orbit_df['$Latitude$'],\n",
    "            mode = 'lines',\n",
    "            name = f'Satellite {satellite_index}',\n",
    "            line = go.scattergeo.Line(\n",
    "                width = 1\n",
    "            )\n",
    "        )\n",
    "    )\n",
    "    \n",
    "figure = go.Figure(\n",
    "    data = data,\n",
    "    layout = go.Layout(\n",
    "        title = None,\n",
    "        showlegend = False,\n",
    "        height=1000,\n",
    "        geo = go.layout.Geo(\n",
    "            showland = True,\n",
    "            landcolor = 'rgb(243, 243, 243)',\n",
    "            countrycolor = 'rgb(204, 204, 204)'\n",
    "        )\n",
    "    )\n",
    ")\n",
    "\n",
    "figure.show()"
   ]
  },
  {
   "cell_type": "markdown",
   "metadata": {},
   "source": [
    "3D plot, in **Earth Fixed** frame:"
   ]
  },
  {
   "cell_type": "code",
   "execution_count": null,
   "metadata": {
    "tags": []
   },
   "outputs": [],
   "source": [
    "data = []\n",
    "\n",
    "for satellite_index in range(number_of_satellites):\n",
    "    \n",
    "    orbit_df = orbit_dfs[satellite_index]\n",
    "    \n",
    "    data.append(\n",
    "        go.Scattergeo(\n",
    "            lon = orbit_df['$Longitude$'],\n",
    "            lat = orbit_df['$Latitude$'],\n",
    "            mode = 'lines',\n",
    "            name = f'Satellite {satellite_index}',\n",
    "            line = go.scattergeo.Line(\n",
    "                width = 2,\n",
    "            )\n",
    "        )\n",
    "    )\n",
    "\n",
    "figure = go.Figure(\n",
    "    data = data,\n",
    "    layout = go.Layout(\n",
    "        title = None,\n",
    "        showlegend = False,\n",
    "        width = 800,\n",
    "        height = 800,\n",
    "        geo = go.layout.Geo(\n",
    "            showland = True,\n",
    "            showlakes = True,\n",
    "            showcountries = False,\n",
    "            showocean = True,\n",
    "            countrywidth = 0.0,\n",
    "            landcolor = 'rgb(100, 100, 100)',\n",
    "            lakecolor = 'rgb(240, 240, 240)',\n",
    "            oceancolor = 'rgb(240, 240, 240)',\n",
    "            projection = dict( \n",
    "                type = 'orthographic',\n",
    "                rotation = dict(\n",
    "                    lon = -100,\n",
    "                    lat = 40,\n",
    "                    roll = 0\n",
    "                )            \n",
    "            ),\n",
    "            lonaxis = dict( \n",
    "                showgrid = True,\n",
    "                gridcolor = 'rgb(102, 102, 102)',\n",
    "                gridwidth = 0.5\n",
    "            ),\n",
    "            lataxis = dict( \n",
    "                showgrid = True,\n",
    "                gridcolor = 'rgb(102, 102, 102)',\n",
    "                gridwidth = 0.5\n",
    "            )\n",
    "        )\n",
    "    )\n",
    ")\n",
    "\n",
    "figure.show()"
   ]
  },
  {
   "cell_type": "markdown",
   "metadata": {},
   "source": [
    "3D plot, in **Earth Inertial** frame:"
   ]
  },
  {
   "cell_type": "code",
   "execution_count": null,
   "metadata": {
    "tags": []
   },
   "outputs": [],
   "source": [
    "data = []\n",
    "\n",
    "theta = np.linspace(0, 2 * np.pi, 30)\n",
    "phi = np.linspace(0, np.pi, 30)\n",
    "\n",
    "theta_grid, phi_grid = np.meshgrid(theta, phi)\n",
    "\n",
    "r = float(Earth.equatorial_radius.in_meters())\n",
    "\n",
    "x = r * np.cos(theta_grid) * np.sin(phi_grid)\n",
    "y = r * np.sin(theta_grid) * np.sin(phi_grid)\n",
    "z = r * np.cos(phi_grid)\n",
    "\n",
    "earth = go.Surface(\n",
    "    x = x,\n",
    "    y = y,\n",
    "    z = z,\n",
    "    colorscale = 'Viridis',\n",
    "    showscale = False\n",
    ")\n",
    "\n",
    "data.append(earth)\n",
    "\n",
    "for satellite_index in range(number_of_satellites):\n",
    "    \n",
    "    orbit_df = orbit_dfs[satellite_index]\n",
    "\n",
    "    trace = go.Scatter3d(\n",
    "        x = orbit_df['$x_{x}^{ECI}$'],\n",
    "        y = orbit_df['$x_{y}^{ECI}$'],\n",
    "        z = orbit_df['$x_{z}^{ECI}$'],\n",
    "        mode = 'lines',\n",
    "        name = f'Satellite {satellite_index}',\n",
    "        marker = dict(\n",
    "            size = 0,\n",
    "#             color = initial_orbit_df['$x_{z}^{ECI}$'],\n",
    "            colorscale = 'Viridis',\n",
    "            showscale = False\n",
    "        ),\n",
    "        line = dict(\n",
    "#             color = initial_orbit_df['$x_{z}^{ECI}$'],\n",
    "            width = 3\n",
    "        )\n",
    "    )\n",
    "    \n",
    "    data.append(trace)\n",
    "\n",
    "figure = go.Figure(\n",
    "    data = data,\n",
    "    layout = go.Layout(\n",
    "        title = None,\n",
    "        width = 800,\n",
    "        height = 1000,\n",
    "        showlegend = False,\n",
    "        scene = go.layout.Scene(\n",
    "            xaxis = dict(\n",
    "                gridcolor = 'rgb(255, 255, 255)',\n",
    "                zerolinecolor = 'rgb(255, 255, 255)',\n",
    "                showbackground = True,\n",
    "                backgroundcolor = 'rgb(230, 230,230)'\n",
    "            ),\n",
    "            yaxis = dict(\n",
    "                gridcolor = 'rgb(255, 255, 255)',\n",
    "                zerolinecolor = 'rgb(255, 255, 255)',\n",
    "                showbackground = True,\n",
    "                backgroundcolor = 'rgb(230, 230,230)'\n",
    "            ),\n",
    "            zaxis = dict(\n",
    "                gridcolor = 'rgb(255, 255, 255)',\n",
    "                zerolinecolor = 'rgb(255, 255, 255)',\n",
    "                showbackground = True,\n",
    "                backgroundcolor = 'rgb(230, 230,230)'\n",
    "            ),\n",
    "            camera = dict(\n",
    "                up = dict(\n",
    "                    x = 0,\n",
    "                    y = 0,\n",
    "                    z = 1\n",
    "                ),\n",
    "                eye = dict(\n",
    "                    x = -1.7428,\n",
    "                    y = 1.0707,\n",
    "                    z = 0.7100,\n",
    "                )\n",
    "            ),\n",
    "        )\n",
    "    )\n",
    ")\n",
    "\n",
    "figure.show()"
   ]
  },
  {
   "cell_type": "markdown",
   "metadata": {},
   "source": [
    "---"
   ]
  }
 ],
 "metadata": {
  "kernelspec": {
   "display_name": "Python 3 (ipykernel)",
   "language": "python",
   "name": "python3"
  },
  "language_info": {
   "codemirror_mode": {
    "name": "ipython",
    "version": 3
   },
   "file_extension": ".py",
   "mimetype": "text/x-python",
   "name": "python",
   "nbconvert_exporter": "python",
   "pygments_lexer": "ipython3",
   "version": "3.9.10"
  }
 },
 "nbformat": 4,
 "nbformat_minor": 4
}
