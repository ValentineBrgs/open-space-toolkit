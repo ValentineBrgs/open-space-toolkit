{
 "cells": [
  {
   "cell_type": "markdown",
   "metadata": {},
   "source": [
    "# Hohmann Transfer Orbit Visualization"
   ]
  },
  {
   "cell_type": "markdown",
   "metadata": {},
   "source": [
    "This tutorial demonstrates how to generate satellite Keplerian orbits to visualize a Hohmann transfer orbit around Earth"
   ]
  },
  {
   "cell_type": "markdown",
   "metadata": {},
   "source": [
    "## Setup"
   ]
  },
  {
   "cell_type": "code",
   "execution_count": 1,
   "metadata": {},
   "outputs": [],
   "source": [
    "import numpy as np\n",
    "import pandas as pd\n",
    "\n",
    "import plotly.graph_objs as go\n",
    "\n",
    "from ostk.physics.units import Length\n",
    "from ostk.physics.units import Angle\n",
    "from ostk.physics.time import Scale\n",
    "from ostk.physics.time import Instant\n",
    "from ostk.physics.time import Duration\n",
    "from ostk.physics.time import Interval\n",
    "from ostk.physics.time import DateTime\n",
    "from ostk.physics.coordinate.spherical import LLA\n",
    "from ostk.physics.coordinate import Frame\n",
    "from ostk.physics import Environment\n",
    "from ostk.physics.environment.objects.celestial_bodies import Earth\n",
    "\n",
    "from ostk.astrodynamics import Trajectory\n",
    "from ostk.astrodynamics.trajectory import Orbit\n",
    "from ostk.astrodynamics.trajectory.orbit.models import Kepler\n",
    "from ostk.astrodynamics.trajectory.orbit.models.kepler import COE\n",
    "from ostk.astrodynamics.trajectory.orbit.models import SGP4\n",
    "from ostk.astrodynamics.trajectory.orbit.models.sgp4 import TLE"
   ]
  },
  {
   "cell_type": "markdown",
   "metadata": {},
   "source": [
    "---"
   ]
  },
  {
   "cell_type": "code",
   "execution_count": 2,
   "metadata": {},
   "outputs": [],
   "source": [
    "def propagate_kepler_orbit (coe, epoch, earth, interval):\n",
    "    \n",
    "    keplerian_model = Kepler(coe, epoch, earth, Kepler.PerturbationType.No)\n",
    "    orbit = Orbit(keplerian_model, earth)\n",
    "    \n",
    "    states = [[instant, orbit.get_state_at(instant)] for instant in instants]\n",
    "    orbit_data = [convert_state(instant, state) for [instant, state] in states]\n",
    "    \n",
    "    orbit_df = pd.DataFrame(\n",
    "        orbit_data, \n",
    "        columns = [\n",
    "            '$Time^{UTC}$', \n",
    "            '$MJD^{UTC}$', \n",
    "            '$x_{x}^{ECI}$', \n",
    "            '$x_{y}^{ECI}$', \n",
    "            '$x_{z}^{ECI}$', \n",
    "            '$v_{x}^{ECI}$', \n",
    "            '$v_{y}^{ECI}$', \n",
    "            '$v_{z}^{ECI}$', \n",
    "            '$Latitude$', \n",
    "            '$Longitude$', \n",
    "            '$Altitude$'\n",
    "        ]\n",
    "    )\n",
    "    \n",
    "    return orbit_df"
   ]
  },
  {
   "cell_type": "code",
   "execution_count": 3,
   "metadata": {
    "tags": []
   },
   "outputs": [],
   "source": [
    "def convert_state (instant, state):\n",
    "    \n",
    "    lla = LLA.cartesian(\n",
    "        state.get_position().in_frame(Frame.ITRF(), state.get_instant()).get_coordinates(), \n",
    "        Earth.equatorial_radius, \n",
    "        Earth.flattening\n",
    "    )\n",
    "    \n",
    "    return [\n",
    "                repr(instant),\n",
    "                float(instant.get_modified_julian_date(Scale.UTC)),\n",
    "                *state.get_position().get_coordinates().tolist(),\n",
    "                *state.get_velocity().get_coordinates().tolist(),\n",
    "                float(lla.get_latitude().in_degrees()),\n",
    "                float(lla.get_longitude().in_degrees()),\n",
    "                float(lla.get_altitude().in_meters())\n",
    "            ]"
   ]
  },
  {
   "cell_type": "markdown",
   "metadata": {},
   "source": [
    "## Keplerian Orbits"
   ]
  },
  {
   "cell_type": "code",
   "execution_count": null,
   "metadata": {},
   "outputs": [],
   "source": [
    "environment = Environment.default()"
   ]
  },
  {
   "cell_type": "code",
   "execution_count": null,
   "metadata": {},
   "outputs": [],
   "source": [
    "epoch = Instant.date_time(DateTime(2022, 1, 1, 0, 0, 0), Scale.UTC)\n",
    "earth = environment.access_celestial_object_with_name('Earth')"
   ]
  },
  {
   "cell_type": "code",
   "execution_count": null,
   "metadata": {},
   "outputs": [],
   "source": [
    "start_instant = Instant.date_time(DateTime(2022, 1, 1, 0, 0, 0), Scale.UTC)\n",
    "end_instant = Instant.date_time(DateTime(2022, 1, 2, 0, 0, 0), Scale.UTC)"
   ]
  },
  {
   "cell_type": "code",
   "execution_count": null,
   "metadata": {},
   "outputs": [],
   "source": [
    "interval = Interval.closed(start_instant, end_instant)"
   ]
  },
  {
   "cell_type": "code",
   "execution_count": null,
   "metadata": {},
   "outputs": [],
   "source": [
    "step = Duration.minutes(1.0)"
   ]
  },
  {
   "cell_type": "code",
   "execution_count": null,
   "metadata": {},
   "outputs": [],
   "source": [
    "instants = interval.generate_grid(step)"
   ]
  },
  {
   "cell_type": "markdown",
   "metadata": {},
   "source": [
    "### Initial Orbit"
   ]
  },
  {
   "cell_type": "code",
   "execution_count": null,
   "metadata": {},
   "outputs": [],
   "source": [
    "a_initial = Length.kilometers(6700.0)\n",
    "e_initial = 0.0001\n",
    "i_initial = Angle.degrees(35.0)\n",
    "raan_initial = Angle.degrees(40.0)\n",
    "aop_initial = Angle.degrees(45.0)\n",
    "nu_initial = Angle.degrees(50.0)\n",
    "\n",
    "initial_coe = COE(a_initial, e_initial, i_initial, raan_initial, aop_initial, nu_initial)"
   ]
  },
  {
   "cell_type": "code",
   "execution_count": null,
   "metadata": {},
   "outputs": [],
   "source": [
    "initial_orbit_df = propagate_kepler_orbit(initial_coe, epoch, earth, interval)"
   ]
  },
  {
   "cell_type": "markdown",
   "metadata": {},
   "source": [
    "### Final Orbit"
   ]
  },
  {
   "cell_type": "code",
   "execution_count": null,
   "metadata": {},
   "outputs": [],
   "source": [
    "a_final = Length.kilometers(42238.0)\n",
    "e_final = 0.0001\n",
    "i_final = Angle.degrees(35.0)\n",
    "raan_final = Angle.degrees(40.0)\n",
    "aop_final = Angle.degrees(45.0)\n",
    "nu_final = Angle.degrees(50.0)\n",
    "\n",
    "final_coe = COE(a_final, e_final, i_final, raan_final, aop_final, nu_final)"
   ]
  },
  {
   "cell_type": "code",
   "execution_count": null,
   "metadata": {},
   "outputs": [],
   "source": [
    "final_orbit_df = propagate_kepler_orbit(final_coe, epoch, earth, interval)"
   ]
  },
  {
   "cell_type": "markdown",
   "metadata": {},
   "source": [
    "### Transfer Orbit"
   ]
  },
  {
   "cell_type": "code",
   "execution_count": null,
   "metadata": {},
   "outputs": [],
   "source": [
    "a = Length.kilometers((a_final.in_kilometers() + a_initial.in_kilometers()) / 2)\n",
    "e = 0.7265\n",
    "i = Angle.degrees(35.0)\n",
    "raan = Angle.degrees(40.0)\n",
    "aop = Angle.degrees(45.0)\n",
    "nu = Angle.degrees(50.0)\n",
    "\n",
    "transfer_coe = COE(a, e, i, raan, aop, nu)"
   ]
  },
  {
   "cell_type": "code",
   "execution_count": null,
   "metadata": {},
   "outputs": [],
   "source": [
    "transfer_orbit_df = propagate_kepler_orbit(transfer_coe, epoch, earth, interval)"
   ]
  },
  {
   "cell_type": "markdown",
   "metadata": {},
   "source": [
    "### Output"
   ]
  },
  {
   "cell_type": "markdown",
   "metadata": {},
   "source": [
    "3D plot, in **Earth Fixed** frame:"
   ]
  },
  {
   "cell_type": "code",
   "execution_count": null,
   "metadata": {
    "tags": []
   },
   "outputs": [],
   "source": [
    "figure = go.Figure(\n",
    "    data = [\n",
    "        go.Scattergeo(\n",
    "            lon = initial_orbit_df['$Longitude$'],\n",
    "            lat = initial_orbit_df['$Latitude$'],\n",
    "            mode = 'lines',\n",
    "            line = go.scattergeo.Line(\n",
    "                width = 2,\n",
    "                color = 'rgb(255, 62, 79)'\n",
    "            )\n",
    "        ),\n",
    "        go.Scattergeo(\n",
    "            lon = final_orbit_df['$Longitude$'],\n",
    "            lat = final_orbit_df['$Latitude$'],\n",
    "            mode = 'lines',\n",
    "            line = go.scattergeo.Line(\n",
    "                width = 2,\n",
    "                color = 'rgb(62, 255, 79)'\n",
    "            )\n",
    "        ),\n",
    "        go.Scattergeo(\n",
    "            lon = transfer_orbit_df['$Longitude$'],\n",
    "            lat = transfer_orbit_df['$Latitude$'],\n",
    "            mode = 'lines',\n",
    "            line = go.scattergeo.Line(\n",
    "                width = 2,\n",
    "                color = 'rgb(79, 62, 255)'\n",
    "            )\n",
    "        )\n",
    "    ],\n",
    "    layout = go.Layout(\n",
    "        title = None,\n",
    "        showlegend = False,\n",
    "        width = 800,\n",
    "        height = 800,\n",
    "        geo = go.layout.Geo(\n",
    "            showland = True,\n",
    "            showlakes = True,\n",
    "            showcountries = False,\n",
    "            showocean = True,\n",
    "            countrywidth = 0.0,\n",
    "            landcolor = 'rgb(100, 100, 100)',\n",
    "            lakecolor = 'rgb(240, 240, 240)',\n",
    "            oceancolor = 'rgb(240, 240, 240)',\n",
    "            projection = dict( \n",
    "                type = 'orthographic',\n",
    "                rotation = dict(\n",
    "                    lon = -100,\n",
    "                    lat = 40,\n",
    "                    roll = 0\n",
    "                )            \n",
    "            ),\n",
    "            lonaxis = dict( \n",
    "                showgrid = True,\n",
    "                gridcolor = 'rgb(102, 102, 102)',\n",
    "                gridwidth = 0.5\n",
    "            ),\n",
    "            lataxis = dict( \n",
    "                showgrid = True,\n",
    "                gridcolor = 'rgb(102, 102, 102)',\n",
    "                gridwidth = 0.5\n",
    "            )\n",
    "        )\n",
    "    )\n",
    ")\n",
    "\n",
    "figure.show()"
   ]
  },
  {
   "cell_type": "markdown",
   "metadata": {},
   "source": [
    "3D plot, in **Earth Inertial** frame:"
   ]
  },
  {
   "cell_type": "code",
   "execution_count": null,
   "metadata": {
    "tags": []
   },
   "outputs": [],
   "source": [
    "theta = np.linspace(0, 2 * np.pi, 30)\n",
    "phi = np.linspace(0, np.pi, 30)\n",
    "\n",
    "theta_grid, phi_grid = np.meshgrid(theta, phi)\n",
    "\n",
    "r = float(Earth.equatorial_radius.in_meters())\n",
    "\n",
    "x = r * np.cos(theta_grid) * np.sin(phi_grid)\n",
    "y = r * np.sin(theta_grid) * np.sin(phi_grid)\n",
    "z = r * np.cos(phi_grid)\n",
    "\n",
    "earth = go.Surface(\n",
    "    x = x,\n",
    "    y = y,\n",
    "    z = z,\n",
    "    colorscale = 'Viridis',\n",
    "    showscale = False\n",
    ")\n",
    "\n",
    "initial_orbit_trace = go.Scatter3d(\n",
    "    x = initial_orbit_df['$x_{x}^{ECI}$'],\n",
    "    y = initial_orbit_df['$x_{y}^{ECI}$'],\n",
    "    z = initial_orbit_df['$x_{z}^{ECI}$'],\n",
    "    mode = 'lines',\n",
    "    marker = dict(\n",
    "        size = 0,\n",
    "        color = initial_orbit_df['$x_{z}^{ECI}$'],\n",
    "        colorscale = 'Viridis',\n",
    "        showscale = False\n",
    "    ),\n",
    "    line = dict(\n",
    "        color = initial_orbit_df['$x_{z}^{ECI}$'],\n",
    "        width = 3\n",
    "    )\n",
    ")\n",
    "\n",
    "final_orbit_trace = go.Scatter3d(\n",
    "    x = final_orbit_df['$x_{x}^{ECI}$'],\n",
    "    y = final_orbit_df['$x_{y}^{ECI}$'],\n",
    "    z = final_orbit_df['$x_{z}^{ECI}$'],\n",
    "    mode = 'lines',\n",
    "    marker = dict(\n",
    "        size = 0,\n",
    "        color = final_orbit_df['$x_{z}^{ECI}$'],\n",
    "        colorscale = 'Viridis',\n",
    "        showscale = False\n",
    "    ),\n",
    "    line = dict(\n",
    "        color = final_orbit_df['$x_{z}^{ECI}$'],\n",
    "        width = 3\n",
    "    )\n",
    ")\n",
    "\n",
    "transfer_orbit_trace = go.Scatter3d(\n",
    "    x = transfer_orbit_df['$x_{x}^{ECI}$'],\n",
    "    y = transfer_orbit_df['$x_{y}^{ECI}$'],\n",
    "    z = transfer_orbit_df['$x_{z}^{ECI}$'],\n",
    "    mode = 'lines',\n",
    "    marker = dict(\n",
    "        size = 0,\n",
    "        color = transfer_orbit_df['$x_{z}^{ECI}$'],\n",
    "        colorscale = 'Viridis',\n",
    "        showscale = False\n",
    "    ),\n",
    "    line = dict(\n",
    "        color = transfer_orbit_df['$x_{z}^{ECI}$'],\n",
    "        width = 3\n",
    "    )\n",
    ")\n",
    "\n",
    "figure = go.Figure(\n",
    "    data = [earth, initial_orbit_trace, final_orbit_trace, transfer_orbit_trace],\n",
    "    layout = go.Layout(\n",
    "        title = None,\n",
    "        width = 800,\n",
    "        height = 1000,\n",
    "        showlegend = False,\n",
    "        scene = go.layout.Scene(\n",
    "            xaxis = dict(\n",
    "                gridcolor = 'rgb(255, 255, 255)',\n",
    "                zerolinecolor = 'rgb(255, 255, 255)',\n",
    "                showbackground = True,\n",
    "                backgroundcolor = 'rgb(230, 230,230)'\n",
    "            ),\n",
    "            yaxis = dict(\n",
    "                gridcolor = 'rgb(255, 255, 255)',\n",
    "                zerolinecolor = 'rgb(255, 255, 255)',\n",
    "                showbackground = True,\n",
    "                backgroundcolor = 'rgb(230, 230,230)'\n",
    "            ),\n",
    "            zaxis = dict(\n",
    "                gridcolor = 'rgb(255, 255, 255)',\n",
    "                zerolinecolor = 'rgb(255, 255, 255)',\n",
    "                showbackground = True,\n",
    "                backgroundcolor = 'rgb(230, 230,230)'\n",
    "            ),\n",
    "            camera = dict(\n",
    "                up = dict(\n",
    "                    x = 0,\n",
    "                    y = 0,\n",
    "                    z = 1\n",
    "                ),\n",
    "                eye = dict(\n",
    "                    x = -1.7428,\n",
    "                    y = 1.0707,\n",
    "                    z = 0.7100,\n",
    "                )\n",
    "            ),\n",
    "        )\n",
    "    )\n",
    ")\n",
    "\n",
    "figure.show()"
   ]
  },
  {
   "cell_type": "markdown",
   "metadata": {},
   "source": [
    "---"
   ]
  }
 ],
 "metadata": {
  "kernelspec": {
   "display_name": "Python 3 (ipykernel)",
   "language": "python",
   "name": "python3"
  },
  "language_info": {
   "codemirror_mode": {
    "name": "ipython",
    "version": 3
   },
   "file_extension": ".py",
   "mimetype": "text/x-python",
   "name": "python",
   "nbconvert_exporter": "python",
   "pygments_lexer": "ipython3",
   "version": "3.9.10"
  }
 },
 "nbformat": 4,
 "nbformat_minor": 4
}
