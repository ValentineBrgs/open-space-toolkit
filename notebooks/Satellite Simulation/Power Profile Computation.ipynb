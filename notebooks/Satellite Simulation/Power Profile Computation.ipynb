{
 "cells": [
  {
   "cell_type": "markdown",
   "metadata": {},
   "source": [
    "# Power Profile Computation"
   ]
  },
  {
   "cell_type": "markdown",
   "metadata": {},
   "source": [
    "This tutorial demonstrates how to compute the Power Profile of a Satellite orbiting the Earth using a simple power model."
   ]
  },
  {
   "cell_type": "markdown",
   "metadata": {},
   "source": [
    "## Setup"
   ]
  },
  {
   "cell_type": "code",
   "execution_count": 9,
   "metadata": {},
   "outputs": [],
   "source": [
    "import datetime\n",
    "import math\n",
    "\n",
    "import numpy as np\n",
    "import pandas as pd\n",
    "\n",
    "import plotly.graph_objs as go\n",
    "\n",
    "from IPython.display import display\n",
    "import ipywidgets as widgets\n",
    "\n",
    "from ostk.mathematics.objects import RealInterval\n",
    "\n",
    "from ostk.physics.units import Length\n",
    "from ostk.physics.units import Angle\n",
    "from ostk.physics.units import Time\n",
    "from ostk.physics.units import Derived\n",
    "from ostk.physics.time import Scale\n",
    "from ostk.physics.time import Instant\n",
    "from ostk.physics.time import Duration\n",
    "from ostk.physics.time import Interval\n",
    "from ostk.physics.time import DateTime\n",
    "from ostk.physics.coordinate import Position\n",
    "from ostk.physics.coordinate import Velocity\n",
    "from ostk.physics.coordinate.spherical import LLA\n",
    "from ostk.physics.coordinate.spherical import AER\n",
    "from ostk.physics.coordinate import Frame\n",
    "from ostk.physics import Environment\n",
    "from ostk.physics.environment.objects.celestial_bodies import Earth\n",
    "\n",
    "from ostk.astrodynamics import Trajectory\n",
    "from ostk.astrodynamics.trajectory import Orbit\n",
    "from ostk.astrodynamics.trajectory.orbit.models import Kepler\n",
    "from ostk.astrodynamics.trajectory.orbit.models import SGP4\n",
    "from ostk.astrodynamics.trajectory.orbit.models.kepler import COE\n",
    "from ostk.astrodynamics.trajectory.orbit.models.sgp4 import TLE\n",
    "from ostk.astrodynamics import Access\n",
    "from ostk.astrodynamics.access import Generator as AccessGenerator"
   ]
  },
  {
   "cell_type": "markdown",
   "metadata": {},
   "source": [
    "---"
   ]
  },
  {
   "cell_type": "markdown",
   "metadata": {},
   "source": [
    "## Configuration"
   ]
  },
  {
   "cell_type": "markdown",
   "metadata": {},
   "source": [
    "Define a timestamp (ms):"
   ]
  },
  {
   "cell_type": "code",
   "execution_count": 10,
   "metadata": {},
   "outputs": [],
   "source": [
    "start_instant = Instant.date_time(DateTime.parse('2021-07-15T10:00:00.000', DateTime.Format.ISO8601), Scale.UTC)"
   ]
  },
  {
   "cell_type": "markdown",
   "metadata": {},
   "source": [
    "Define an analysis duration:"
   ]
  },
  {
   "cell_type": "code",
   "execution_count": 11,
   "metadata": {},
   "outputs": [],
   "source": [
    "analysis_duration = Duration.minutes(90.0)"
   ]
  },
  {
   "cell_type": "code",
   "execution_count": 12,
   "metadata": {},
   "outputs": [],
   "source": [
    "step = Duration.seconds(60.0)"
   ]
  },
  {
   "cell_type": "markdown",
   "metadata": {},
   "source": [
    "Define a TLE:"
   ]
  },
  {
   "cell_type": "code",
   "execution_count": 13,
   "metadata": {},
   "outputs": [],
   "source": [
    "tle = TLE(\n",
    "    '1 99994U          21182.53438657  .00000932  00000-0  53335-4 0 00005',\n",
    "    '2 99994 097.5092 311.3101 0011006 216.6384 244.4941 15.12686890000118'\n",
    ")"
   ]
  },
  {
   "cell_type": "markdown",
   "metadata": {},
   "source": [
    "Define Ground Station of Interest"
   ]
  },
  {
   "cell_type": "code",
   "execution_count": 14,
   "metadata": {},
   "outputs": [],
   "source": [
    "ground_station_chosen = 'Ground Station 1'"
   ]
  },
  {
   "cell_type": "markdown",
   "metadata": {},
   "source": [
    "### Accesses"
   ]
  },
  {
   "cell_type": "markdown",
   "metadata": {},
   "source": [
    "Define ground station data for computing accesses:"
   ]
  },
  {
   "cell_type": "code",
   "execution_count": 15,
   "metadata": {},
   "outputs": [],
   "source": [
    "ground_stations = {\n",
    "    'Ground Station 1': {\n",
    "        'identifier': 'GS1',\n",
    "        'latitude': 78.23164,\n",
    "        'longitude': 15.37725,\n",
    "        'altitude': 483.0,\n",
    "        'min_elevation_angle': 5.0,\n",
    "    },\n",
    "    'Ground Station 2': {\n",
    "        'identifier': 'GS2',\n",
    "        'latitude': -72.0021,\n",
    "        'longitude': 2.5251,\n",
    "        'altitude': 1401.0,\n",
    "        'min_elevation_angle': 5.0,\n",
    "    },\n",
    "}"
   ]
  },
  {
   "cell_type": "markdown",
   "metadata": {},
   "source": [
    "---"
   ]
  },
  {
   "cell_type": "markdown",
   "metadata": {},
   "source": [
    "## Orbital Elements"
   ]
  },
  {
   "cell_type": "code",
   "execution_count": 16,
   "metadata": {},
   "outputs": [
    {
     "name": "stdout",
     "output_type": "stream",
     "text": [
      "-- Two-Line Elements -------------------------------------------------------------------------------\n",
      "    Line 1:                                  1 99994U          21182.53438657  .00000932  00000-0  53335-4 0 00005 \n",
      "    Line 2:                                  2 99994 097.5092 311.3101 0011006 216.6384 244.4941 15.12686890000118 \n",
      "- - - - - - - - - - - - - - - - - - - - - - - - - - - - - - - - - - - - - - - - - - - - - - - - - - \n",
      "    Satellite Name:                                                                   \n",
      "    Satellite Number:                        99994                                    \n",
      "    Classification:                          U                                        \n",
      "    International Designator:                                                         \n",
      "    Epoch:                                   2021-07-01 12:49:30.999.648 [UTC]        \n",
      "    Mean Motion First Time Der. / 2:         9.3200000000000006e-06                   \n",
      "    Mean Motion Second Time Der. / 6:        0.0                                      \n",
      "    B* Drag Term:                            5.3334999999999997e-05                   \n",
      "    Ephemeris Type:                          0                                        \n",
      "    Element Set Number:                      0                                        \n",
      "    Inclination:                             97.509200000000007 [deg]                 \n",
      "    Right Ascension of the Ascending Node :  311.31009999999998 [deg]                 \n",
      "    Eccentricity:                            0.0011006                                \n",
      "    Argument of Periapsis:                   216.63839999999999 [deg]                 \n",
      "    Mean Anomaly:                            244.4941 [deg]                           \n",
      "    Mean Motion:                             15.1268689 [rev/day]                     \n",
      "    Revolution Number at Epoch:              11                                       \n",
      "----------------------------------------------------------------------------------------------------\n",
      "\n"
     ]
    }
   ],
   "source": [
    "print(tle)"
   ]
  },
  {
   "cell_type": "markdown",
   "metadata": {},
   "source": [
    "---"
   ]
  },
  {
   "cell_type": "markdown",
   "metadata": {},
   "source": [
    "## Computation"
   ]
  },
  {
   "cell_type": "code",
   "execution_count": 17,
   "metadata": {},
   "outputs": [],
   "source": [
    "def lla_from_state (state):\n",
    "    \n",
    "    lla = lla_from_position(state.get_position(), state.get_instant())\n",
    "\n",
    "    return [\n",
    "        float(lla.get_latitude().in_degrees()),\n",
    "        float(lla.get_longitude().in_degrees()),\n",
    "        float(lla.get_altitude().in_meters())\n",
    "    ]\n",
    "\n",
    "def lla_from_position (position, instant):\n",
    "    \n",
    "    return LLA.cartesian(\n",
    "        position.in_frame(Frame.ITRF(), instant).get_coordinates(),\n",
    "        Earth.equatorial_radius,\n",
    "        Earth.flattening\n",
    "    )\n",
    "\n",
    "def position_from_lla (lla):\n",
    "    \n",
    "    return Position.meters(\n",
    "        lla.to_cartesian(Earth.equatorial_radius, Earth.flattening),\n",
    "        Frame.ITRF()\n",
    "    )\n",
    "\n",
    "def parse_ground_station_lla (ground_station):\n",
    "    \n",
    "    return LLA(\n",
    "        Angle.degrees(ground_station['latitude']),\n",
    "        Angle.degrees(ground_station['longitude']),\n",
    "        Length.meters(ground_station['altitude'])\n",
    "    )\n",
    "\n",
    "def compute_aer (instant, from_position, to_position):\n",
    "    \n",
    "    from_lla = lla_from_position(from_position, instant)\n",
    "    \n",
    "    ned_frame = earth.get_frame_at(from_lla, Earth.FrameType.NED)\n",
    "\n",
    "    from_position_NED = from_position.in_frame(ned_frame, instant)\n",
    "    to_position_NED = to_position.in_frame(ned_frame, instant)\n",
    "\n",
    "    aer = AER.from_position_to_position(from_position_NED, to_position_NED, True)\n",
    "            \n",
    "    return [\n",
    "        float(aer.get_azimuth().in_degrees()),\n",
    "        float(aer.get_elevation().in_degrees()),\n",
    "        float(aer.get_range().in_meters())\n",
    "    ]\n",
    "\n",
    "def compute_time_lla_aer_state (state, ground_station_position):\n",
    "    \n",
    "    instant = state.get_instant()\n",
    "    \n",
    "    lla = lla_from_state(state)\n",
    "    aer = compute_aer(instant, ground_station_position, state.get_position().in_frame(Frame.ITRF(), state.get_instant()))\n",
    "\n",
    "    return [instant, lla[0], lla[1], lla[2], aer[0], aer[1], aer[2]]\n",
    "\n",
    "def compute_trajectory_geometry (trajectory, interval):\n",
    "\n",
    "    return [\n",
    "        lla_from_state(state)\n",
    "        for state in trajectory.get_states_at(interval.generate_grid(Duration.minutes(1.0)))\n",
    "    ]\n",
    "\n",
    "def compute_access_geometry (access, ground_station):\n",
    "    \n",
    "    ground_station_position = position_from_lla(parse_ground_station_lla(ground_station))\n",
    "\n",
    "    return [\n",
    "        compute_time_lla_aer_state(state, ground_station_position)\n",
    "        for state in orbit.get_states_at(access.get_interval().generate_grid(Duration.seconds(1.0)))\n",
    "    ]\n",
    "\n",
    "def compute_eclipse (state, level: int = 1):\n",
    "    \n",
    "    sun = environment.access_celestial_object_with_name(\"Sun\")\n",
    "    R_earth = float(Earth.equatorial_radius.in_meters())\n",
    "    R_sun = float(sun.get_equatorial_radius().in_meters())\n",
    "\n",
    "    instant = state.get_instant()\n",
    "\n",
    "    state.in_frame(Frame.ITRF())\n",
    "    P_sat = state.get_position().get_coordinates()\n",
    "    D_sat = np.linalg.norm(P_sat)\n",
    "\n",
    "    sun.set_instant(instant)\n",
    "    P_sun = sun.get_position_in(Frame.ITRF()).get_coordinates()\n",
    "    D_sun = np.linalg.norm(P_sun)\n",
    "    \n",
    "    alpha = math.pi - math.acos(np.inner(P_sat, P_sun) / (D_sat * D_sun))\n",
    "    alpha_penumbra = math.pi - math.acos((R_sun + R_earth) / D_sun) - math.acos(R_earth / D_sat)\n",
    "    alpha_umbra = math.pi - math.acos((R_sun - R_earth) / D_sun) - math.acos(R_earth / D_sat)\n",
    "\n",
    "    if level == 1:\n",
    "        eclipse = alpha < alpha_penumbra\n",
    "        \n",
    "    else:\n",
    "        if alpha < alpha_umbra:\n",
    "            eclipse = \"Umbra\" \n",
    "            \n",
    "        elif alpha < alpha_penumbra:\n",
    "            eclipse = \"Penumbra\"\n",
    "            \n",
    "        else:\n",
    "            eclipse = \"None\"\n",
    "            \n",
    "    return eclipse"
   ]
  },
  {
   "cell_type": "markdown",
   "metadata": {},
   "source": [
    "Bootstrap environment:"
   ]
  },
  {
   "cell_type": "code",
   "execution_count": 18,
   "metadata": {},
   "outputs": [],
   "source": [
    "environment = Environment.default()\n",
    "earth = environment.access_celestial_object_with_name('Earth')"
   ]
  },
  {
   "cell_type": "markdown",
   "metadata": {},
   "source": [
    "Setup an SGP4 model and an orbit:"
   ]
  },
  {
   "cell_type": "code",
   "execution_count": 19,
   "metadata": {},
   "outputs": [],
   "source": [
    "epoch = start_instant\n",
    "\n",
    "sgp4_model = SGP4(tle)\n",
    "orbit = Orbit(sgp4_model, earth)"
   ]
  },
  {
   "cell_type": "markdown",
   "metadata": {},
   "source": [
    "Now that the orbit is set, we can compute the satellite position:"
   ]
  },
  {
   "cell_type": "code",
   "execution_count": 20,
   "metadata": {},
   "outputs": [],
   "source": [
    "interval = Interval.closed(\n",
    "    start_instant,\n",
    "    start_instant + analysis_duration\n",
    ")"
   ]
  },
  {
   "cell_type": "markdown",
   "metadata": {},
   "source": [
    "Generate a time grid:"
   ]
  },
  {
   "cell_type": "code",
   "execution_count": 21,
   "metadata": {},
   "outputs": [],
   "source": [
    "instants = interval.generate_grid(step)"
   ]
  },
  {
   "cell_type": "markdown",
   "metadata": {},
   "source": [
    "Compute satellite orbit:"
   ]
  },
  {
   "cell_type": "code",
   "execution_count": 22,
   "metadata": {},
   "outputs": [],
   "source": [
    "states = [[instant, orbit.get_state_at(instant)] for instant in instants]"
   ]
  },
  {
   "cell_type": "code",
   "execution_count": 23,
   "metadata": {},
   "outputs": [],
   "source": [
    "def convert_state (instant, state):\n",
    "    \n",
    "    lla = LLA.cartesian(state.get_position().in_frame(Frame.ITRF(), state.get_instant()).get_coordinates(), Earth.equatorial_radius, Earth.flattening)\n",
    "    \n",
    "    return [\n",
    "        repr(instant),\n",
    "        float(instant.get_modified_julian_date(Scale.UTC)),\n",
    "        *state.get_position().get_coordinates().transpose().tolist(),\n",
    "        *state.get_velocity().get_coordinates().transpose().tolist(),\n",
    "        float(lla.get_latitude().in_degrees()),\n",
    "        float(lla.get_longitude().in_degrees()),\n",
    "        float(lla.get_altitude().in_meters()),\n",
    "        compute_eclipse(state, level = 2)\n",
    "    ]"
   ]
  },
  {
   "cell_type": "code",
   "execution_count": 24,
   "metadata": {},
   "outputs": [],
   "source": [
    "orbit_data = [convert_state(instant, state) for [instant, state] in states]"
   ]
  },
  {
   "cell_type": "code",
   "execution_count": 25,
   "metadata": {},
   "outputs": [],
   "source": [
    "orbit_df = pd.DataFrame(\n",
    "    orbit_data,\n",
    "    columns = [\n",
    "        '$Time^{UTC}$',\n",
    "        '$MJD^{UTC}$',\n",
    "        '$x_{x}^{ECI}$',\n",
    "        '$x_{y}^{ECI}$',\n",
    "        '$x_{z}^{ECI}$',\n",
    "        '$v_{x}^{ECI}$',\n",
    "        '$v_{y}^{ECI}$',\n",
    "        '$v_{z}^{ECI}$',\n",
    "        '$Latitude$',\n",
    "        '$Longitude$',\n",
    "        '$Altitude$',\n",
    "        '$Eclipse$'\n",
    "    ]\n",
    ")"
   ]
  },
  {
   "cell_type": "markdown",
   "metadata": {},
   "source": [
    "Compute ground stations accesses and off ground station angular profiles:"
   ]
  },
  {
   "cell_type": "code",
   "execution_count": 26,
   "metadata": {},
   "outputs": [],
   "source": [
    "def compute_sun_direction_vector (state):\n",
    "\n",
    "    sun = environment.access_celestial_object_with_name('Sun')\n",
    "\n",
    "    sat_position_GCRF = state.in_frame(Frame.GCRF()).get_position().get_coordinates()\n",
    "    sun_position_GCRF = sun.get_position_in(Frame.GCRF()).get_coordinates()\n",
    "    \n",
    "    sat_to_sun_dir_GCRF = (sun_position_GCRF - sat_position_GCRF)\n",
    "    sat_to_sun_dir_GCRF /= np.linalg.norm(sat_to_sun_dir_GCRF)\n",
    "    \n",
    "    return sat_to_sun_dir_GCRF\n",
    "\n",
    "def compute_nadir_vector (state):\n",
    "\n",
    "    lla = LLA.cartesian(\n",
    "        state.get_position().in_frame(Frame.ITRF(), state.get_instant()).get_coordinates(),\n",
    "        Earth.equatorial_radius,\n",
    "        Earth.flattening\n",
    "    )\n",
    "\n",
    "    ned_frame = earth.get_frame_at(lla, Earth.FrameType.NED)\n",
    "\n",
    "    nadir_GCRF = ned_frame.get_axes_in(Frame.GCRF(), state.get_instant()).z()\n",
    "    \n",
    "    return nadir_GCRF\n",
    "\n",
    "def compute_ground_station_direction_vector (state, to_position_ITRF):\n",
    "\n",
    "    sat_position_GCRF = state.in_frame(Frame.GCRF()).get_position().get_coordinates()\n",
    "    ground_station_GCRF = to_position_ITRF.in_frame(Frame.GCRF(), state.get_instant()).get_coordinates()\n",
    "    \n",
    "    sat_to_ground_station_dir_GCRF = (ground_station_GCRF - sat_position_GCRF)\n",
    "    sat_to_ground_station_dir_GCRF /= np.linalg.norm(sat_to_ground_station_dir_GCRF)\n",
    "    \n",
    "    return sat_to_ground_station_dir_GCRF\n",
    "\n",
    "def compute_body_frame_axes (state):\n",
    "    \n",
    "    # Compute +Y = Sun direction vector\n",
    "    sun_direction_vector = compute_sun_direction_vector(state)\n",
    "    y_B = sun_direction_vector\n",
    "\n",
    "    # Compute Nadir\n",
    "    nadir_vector = compute_nadir_vector(state)\n",
    "    \n",
    "    # Compute Nadir x y_B\n",
    "    a = np.cross(nadir_vector, y_B)\n",
    "    \n",
    "    # Compute +X: x_B = y_B x (Nadir x y_B)\n",
    "    x_B = np.cross(y_B, a) / np.linalg.norm(np.cross(y_B, a))\n",
    "    \n",
    "    z_B = np.cross(x_B, y_B) / np.linalg.norm(np.cross(x_B, y_B))\n",
    "    \n",
    "    return (x_B, y_B, z_B)\n",
    "\n",
    "def compute_off_to_angle (state, to_position_ITRF):\n",
    "    \n",
    "    '''\n",
    "    Compute off ground station angle (angle between antenna on satellite +X deck and ground station) at a given orbit state.\n",
    "    \n",
    "    This assumes Sun tracking +Y / Nadir clocking +X (YAM-3 safe mode).\n",
    "    '''\n",
    "    \n",
    "    (x_B, y_B, z_B) = compute_body_frame_axes(state)\n",
    "    \n",
    "    ground_station_direction_vector = compute_ground_station_direction_vector(state, to_position_ITRF)\n",
    "\n",
    "    return (\n",
    "        np.arccos(np.dot(x_B, ground_station_direction_vector)) * 180.0 / np.pi,\n",
    "        x_B\n",
    "    )\n",
    "\n",
    "def compute_ground_intersection (state, x_axis_GCRF):\n",
    "\n",
    "    from ostk.physics.environment.object import Geometry\n",
    "    from ostk.mathematics.geometry.d3.objects import Ray\n",
    "    from ostk.mathematics.geometry.d3.objects import Point as Point3d\n",
    "\n",
    "    earth_geometry = earth.get_geometry_in(Frame.GCRF())\n",
    "\n",
    "    sat_position_GCRF = state.get_position().in_frame(Frame.GCRF(), state.get_instant()).get_coordinates()\n",
    "    sat_position_point_GCRF = Point3d(sat_position_GCRF[0], sat_position_GCRF[1], sat_position_GCRF[2])\n",
    "\n",
    "    ray = Ray(sat_position_point_GCRF, x_axis_GCRF)\n",
    "    \n",
    "    intersection = ray.intersection_with_ellipsoid(earth_geometry.access_composite().as_ellipsoid())\n",
    "    intersection_composite = intersection.access_composite()\n",
    "\n",
    "    intersection_point = None\n",
    "    \n",
    "    if intersection_composite.is_point_set():\n",
    "        intersection_point = intersection_composite.as_point_set().get_point_closest_to(sat_position_point_GCRF)\n",
    "    \n",
    "    elif intersection_composite.is_point():\n",
    "        intersection_point = intersection_composite.as_point()\n",
    "    \n",
    "    else:\n",
    "        return None\n",
    "    \n",
    "    assert intersection_point is not None\n",
    "    \n",
    "    intersection_position_GCRF = Position.meters(\n",
    "        [intersection_point.x(), intersection_point.y(), intersection_point.z()],\n",
    "        Frame.GCRF()\n",
    "    )\n",
    "    \n",
    "    intersection_lla = LLA.cartesian(\n",
    "        intersection_position_GCRF.in_frame(Frame.ITRF(), state.get_instant()).get_coordinates(),\n",
    "        Earth.equatorial_radius,\n",
    "        Earth.flattening\n",
    "    )\n",
    "    \n",
    "    return [\n",
    "        float(intersection_lla.get_latitude().in_degrees()),\n",
    "        float(intersection_lla.get_longitude().in_degrees())\n",
    "    ]"
   ]
  },
  {
   "cell_type": "markdown",
   "metadata": {},
   "source": [
    "---"
   ]
  },
  {
   "cell_type": "markdown",
   "metadata": {},
   "source": [
    "## Visualization (Heliocentric Reference Frame to add)"
   ]
  },
  {
   "cell_type": "markdown",
   "metadata": {},
   "source": [
    "TBA"
   ]
  },
  {
   "cell_type": "markdown",
   "metadata": {},
   "source": [
    "---"
   ]
  }
 ],
 "metadata": {
  "jupytext": {
   "encoding": "# -*- coding: utf-8 -*-",
   "formats": "ipynb,py:light"
  },
  "kernelspec": {
   "display_name": "Python 3",
   "language": "python",
   "name": "python3"
  },
  "language_info": {
   "codemirror_mode": {
    "name": "ipython",
    "version": 3
   },
   "file_extension": ".py",
   "mimetype": "text/x-python",
   "name": "python",
   "nbconvert_exporter": "python",
   "pygments_lexer": "ipython3",
   "version": "3.9.2"
  }
 },
 "nbformat": 4,
 "nbformat_minor": 4
}
