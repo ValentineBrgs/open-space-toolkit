{
 "cells": [
  {
   "cell_type": "markdown",
   "metadata": {},
   "source": [
    "# Orbit Determination using Gauss Method (WIP)"
   ]
  },
  {
   "cell_type": "markdown",
   "metadata": {},
   "source": [
    "This tutorial demonstrates how to implement Gauss' method of orbit determination from three position vectors. \n",
    "\n",
    "Dedicated optimization solvers will be implemented directly in OSTk soon to be used for convex optimization problems."
   ]
  },
  {
   "cell_type": "markdown",
   "metadata": {},
   "source": [
    "## Setup"
   ]
  },
  {
   "cell_type": "code",
   "execution_count": null,
   "metadata": {},
   "outputs": [],
   "source": [
    "import datetime\n",
    "\n",
    "import numpy as np\n",
    "import pandas as pd\n",
    "import scipy.optimize\n",
    "\n",
    "import plotly.graph_objs as go\n",
    "from plotly.subplots import make_subplots\n",
    "\n",
    "from ostk.mathematics.objects import RealInterval\n",
    "\n",
    "from ostk.physics.units import Length\n",
    "from ostk.physics.units import Angle\n",
    "from ostk.physics.units import Time\n",
    "from ostk.physics.units import Derived\n",
    "from ostk.physics.time import Scale\n",
    "from ostk.physics.time import Instant\n",
    "from ostk.physics.time import Duration\n",
    "from ostk.physics.time import Interval\n",
    "from ostk.physics.time import DateTime\n",
    "from ostk.physics.coordinate import Position\n",
    "from ostk.physics.coordinate import Velocity\n",
    "from ostk.physics.coordinate.spherical import LLA\n",
    "from ostk.physics.coordinate.spherical import AER\n",
    "from ostk.physics.coordinate import Frame\n",
    "from ostk.physics import Environment\n",
    "from ostk.physics.environment.objects.celestial_bodies import Earth\n",
    "\n",
    "from ostk.astrodynamics import Trajectory\n",
    "from ostk.astrodynamics.trajectory import Orbit\n",
    "from ostk.astrodynamics.trajectory.orbit.models import Kepler\n",
    "from ostk.astrodynamics.trajectory.orbit.models.kepler import COE\n",
    "from ostk.astrodynamics.trajectory.orbit.models import SGP4\n",
    "from ostk.astrodynamics.trajectory.orbit.models.sgp4 import TLE\n",
    "from ostk.astrodynamics import Access\n",
    "from ostk.astrodynamics.access import Generator as AccessGenerator"
   ]
  },
  {
   "cell_type": "code",
   "execution_count": null,
   "metadata": {},
   "outputs": [],
   "source": [
    "def convert_state (instant, state):\n",
    "    \n",
    "    lla = LLA.cartesian(state.get_position().in_frame(Frame.ITRF(), state.get_instant()).get_coordinates(), Earth.equatorial_radius, Earth.flattening)\n",
    "    \n",
    "    return [\n",
    "        repr(instant),\n",
    "        float(instant.get_modified_julian_date(Scale.UTC)),\n",
    "        *state.get_position().get_coordinates().transpose().tolist(),\n",
    "        *state.get_velocity().get_coordinates().transpose().tolist(),\n",
    "        float(lla.get_latitude().in_degrees()),\n",
    "        float(lla.get_longitude().in_degrees()),\n",
    "        float(lla.get_altitude().in_meters())\n",
    "    ]\n",
    "\n",
    "def generate_orbit_df (orbit, interval, step):\n",
    "    \n",
    "    if isinstance(interval, tuple):\n",
    "        interval = Interval.closed(interval[0], interval[1]).generate_grid(step)\n",
    "    \n",
    "    orbit_data = [\n",
    "        convert_state(instant, orbit.get_state_at(instant))\n",
    "        for instant in interval\n",
    "    ]\n",
    "\n",
    "    return pd.DataFrame(\n",
    "        orbit_data,\n",
    "        columns = [\n",
    "            '$Time^{UTC}$',\n",
    "            '$MJD^{UTC}$',\n",
    "            '$x_{x}^{ECI}$',\n",
    "            '$x_{y}^{ECI}$',\n",
    "            '$x_{z}^{ECI}$',\n",
    "            '$v_{x}^{ECI}$',\n",
    "            '$v_{y}^{ECI}$',\n",
    "            '$v_{z}^{ECI}$',\n",
    "            '$Latitude$',\n",
    "            '$Longitude$',\n",
    "            '$Altitude$'\n",
    "        ]\n",
    "    )\n",
    "\n",
    "def x_ECI_from_ECEF (x_ECEF, instant):\n",
    "    return Position.meters(x_ECEF, Frame.ITRF()).in_frame(Frame.GCRF(), instant).get_coordinates()\n",
    "\n",
    "def generate_orbit (epoch, x, v):\n",
    "    \n",
    "    coe = COE.cartesian(\n",
    "        [\n",
    "            Position.meters(x, Frame.GCRF()),\n",
    "            Velocity.meters_per_second(v, Frame.GCRF())\n",
    "        ],\n",
    "        Earth.gravitational_parameter\n",
    "    )\n",
    "    \n",
    "    return Orbit(Kepler(coe, epoch, earth, Kepler.PerturbationType.J2), earth)\n",
    "    # J4 might be broken: result being very different from J2."
   ]
  },
  {
   "cell_type": "markdown",
   "metadata": {},
   "source": [
    "---"
   ]
  },
  {
   "cell_type": "code",
   "execution_count": null,
   "metadata": {},
   "outputs": [],
   "source": [
    "analysis_duration = Duration.days(1.0)\n",
    "step = Duration.minutes(1.0)"
   ]
  },
  {
   "cell_type": "markdown",
   "metadata": {},
   "source": [
    "---"
   ]
  },
  {
   "cell_type": "markdown",
   "metadata": {},
   "source": [
    "Bootstrap environment:"
   ]
  },
  {
   "cell_type": "code",
   "execution_count": null,
   "metadata": {},
   "outputs": [],
   "source": [
    "earth = Environment.default().access_celestial_object_with_name('Earth')"
   ]
  },
  {
   "cell_type": "markdown",
   "metadata": {},
   "source": [
    "## Reference Trajectory"
   ]
  },
  {
   "cell_type": "code",
   "execution_count": null,
   "metadata": {},
   "outputs": [],
   "source": [
    "tle = TLE(\n",
    "    '1 99994U          21181.85503887  .00000000  00000-0  00000-0 0 00000',\n",
    "    '2 99994 097.5068 310.6402 0011081 218.2042 145.7731 15.12723100000014'\n",
    ")\n",
    "\n",
    "ref_orbit = Orbit(SGP4(tle), earth)"
   ]
  },
  {
   "cell_type": "code",
   "execution_count": null,
   "metadata": {},
   "outputs": [],
   "source": [
    "tle.get_epoch()"
   ]
  },
  {
   "cell_type": "code",
   "execution_count": null,
   "metadata": {},
   "outputs": [],
   "source": [
    "n = 3.0 # ~ 120 deg spaced-out sample points"
   ]
  },
  {
   "cell_type": "code",
   "execution_count": null,
   "metadata": {},
   "outputs": [],
   "source": [
    "period = 1 / tle.get_mean_motion().in_unit(Derived.Unit.angular_velocity(Angle.Unit.Revolution, Time.Unit.Minute))"
   ]
  },
  {
   "cell_type": "code",
   "execution_count": null,
   "metadata": {},
   "outputs": [],
   "source": [
    "print(f'1/{n} Period: {period / n} (min)')"
   ]
  },
  {
   "cell_type": "markdown",
   "metadata": {},
   "source": [
    "---"
   ]
  },
  {
   "cell_type": "markdown",
   "metadata": {},
   "source": [
    "## Configuration"
   ]
  },
  {
   "cell_type": "markdown",
   "metadata": {},
   "source": [
    "Define three instants:"
   ]
  },
  {
   "cell_type": "code",
   "execution_count": null,
   "metadata": {},
   "outputs": [],
   "source": [
    "start_instant = Instant.date_time(DateTime.parse('2021-07-02T18:00:00.000', DateTime.Format.ISO8601), Scale.UTC)\n",
    "\n",
    "# t_1 = start_instant\n",
    "# t_2 = start_instant + Duration.minutes(period / n)\n",
    "# t_3 = start_instant + Duration.minutes(period / n) * 2\n",
    "\n",
    "t_1 = Instant.date_time(datetime.datetime(2021, 7, 2, 9, 28, 46, 712, tzinfo = datetime.timezone.utc), Scale.UTC)\n",
    "t_2 = Instant.date_time(datetime.datetime(2021, 7, 2, 11, 4, 52, 712, tzinfo = datetime.timezone.utc), Scale.UTC)\n",
    "t_3 = Instant.date_time(datetime.datetime(2021, 7, 2, 13, 21, 16, 712, tzinfo = datetime.timezone.utc), Scale.UTC)"
   ]
  },
  {
   "cell_type": "code",
   "execution_count": null,
   "metadata": {},
   "outputs": [],
   "source": [
    "print(f't_1: {t_1.get_date_time(Scale.UTC)}')\n",
    "print(f't_2: {t_2.get_date_time(Scale.UTC)}')\n",
    "print(f't_3: {t_3.get_date_time(Scale.UTC)}')"
   ]
  },
  {
   "cell_type": "markdown",
   "metadata": {},
   "source": [
    "Define three position vectors (ECEF):"
   ]
  },
  {
   "cell_type": "code",
   "execution_count": null,
   "metadata": {},
   "outputs": [],
   "source": [
    "# x_ECEF_1 = ref_orbit.get_state_at(t_1).get_position().in_frame(Frame.ITRF(), t_1).get_coordinates()\n",
    "# x_ECEF_2 = ref_orbit.get_state_at(t_2).get_position().in_frame(Frame.ITRF(), t_2).get_coordinates()\n",
    "# x_ECEF_3 = ref_orbit.get_state_at(t_3).get_position().in_frame(Frame.ITRF(), t_3).get_coordinates()\n",
    "\n",
    "# x_ECEF_1 = np.array([-1815703.172893414,704970.0470229279,6621051.463822694])*1e3 # [m]\n",
    "# x_ECEF_2 = np.array([-2054436.5277931439,985835.8528682495,6514351.320023936])*1e3 # [m]\n",
    "# x_ECEF_1 = np.array([137602.2258204725,1182569.6340145601,-6805298.931909148])*1e3 # [m]"
   ]
  },
  {
   "cell_type": "markdown",
   "metadata": {},
   "source": [
    "Convert to ECI:"
   ]
  },
  {
   "cell_type": "code",
   "execution_count": null,
   "metadata": {},
   "outputs": [],
   "source": [
    "# x_1 = x_ECI_from_ECEF(x_ECEF_1, t_1)\n",
    "# x_2 = x_ECI_from_ECEF(x_ECEF_2, t_2)\n",
    "# x_3 = x_ECI_from_ECEF(x_ECEF_3, t_3)\n",
    "\n",
    "x_1 = np.array([-1815703.172893414,704970.0470229279,6621051.463822694]) # [m]\n",
    "x_2 = np.array([-2054436.5277931439,985835.8528682495,6514351.320023936]) # [m]\n",
    "x_3 = np.array([137602.2258204725,1182569.6340145601,-6805298.931909148]) # [m]"
   ]
  },
  {
   "cell_type": "code",
   "execution_count": null,
   "metadata": {},
   "outputs": [],
   "source": [
    "print(f'x_ECI_1: {x_1 / 1e3} (km)')\n",
    "print(f'x_ECI_2: {x_2 / 1e3} (km)')\n",
    "print(f'x_ECI_3: {x_3 / 1e3} (km)')"
   ]
  },
  {
   "cell_type": "markdown",
   "metadata": {},
   "source": [
    "Generate a time grid:"
   ]
  },
  {
   "cell_type": "code",
   "execution_count": null,
   "metadata": {},
   "outputs": [],
   "source": [
    "instants = Interval.closed(t_1, t_3).generate_grid(step)\n",
    "\n",
    "if t_2 not in instants:\n",
    "    instants.append(t_2)\n",
    "    \n",
    "if t_3 not in instants:\n",
    "    instants.append(t_3)\n",
    "\n",
    "instants.sort()\n",
    "\n",
    "assert instants[0] == t_1\n",
    "assert t_2 in instants\n",
    "assert instants[-1] == t_3"
   ]
  },
  {
   "cell_type": "markdown",
   "metadata": {},
   "source": [
    "---"
   ]
  },
  {
   "cell_type": "markdown",
   "metadata": {},
   "source": [
    "## Derivation of Orbital Elements"
   ]
  },
  {
   "cell_type": "markdown",
   "metadata": {},
   "source": [
    "Derive classical orbital elements from three position vectors using Gibbs' method. Ref: [H. Curtis, Orbital Mechanics for Engineering Students](http://www.nssc.ac.cn/wxzygx/weixin/201607/P020160718380095698873.pdf) (algorithm and 5.1)."
   ]
  },
  {
   "cell_type": "markdown",
   "metadata": {},
   "source": [
    "Compute cross products and verify that vectors are coplanar:"
   ]
  },
  {
   "cell_type": "code",
   "execution_count": null,
   "metadata": {},
   "outputs": [],
   "source": [
    "c_12 = np.cross(x_1, x_2)\n",
    "c_23 = np.cross(x_2, x_3)\n",
    "c_31 = np.cross(x_3, x_1)\n",
    "\n",
    "x_1_hat = x_1 / np.linalg.norm(x_1)\n",
    "c_23_hat = c_23 / np.linalg.norm(c_23)\n",
    "\n",
    "dot_product = abs(np.dot(x_1_hat, c_23_hat))\n",
    "\n",
    "print(f'Coplanarity condition: dot product = {dot_product}.')\n",
    "assert dot_product < 1e-2, 'The three position vectors are not coplanar.'"
   ]
  },
  {
   "cell_type": "markdown",
   "metadata": {},
   "source": [
    "Compute estimate $\\bf{v_2}^{ECI}_{rough}$:"
   ]
  },
  {
   "cell_type": "code",
   "execution_count": null,
   "metadata": {},
   "outputs": [],
   "source": [
    "n = np.linalg.norm(x_1) * c_23 + np.linalg.norm(x_2) * c_31 + np.linalg.norm(x_3) * c_12\n",
    "d = c_12 + c_23 + c_31\n",
    "s = x_1 * (np.linalg.norm(x_2) - np.linalg.norm(x_3)) + x_2 * (np.linalg.norm(x_3) - np.linalg.norm(x_1)) + x_3 * (np.linalg.norm(x_1) - np.linalg.norm(x_2))\n",
    "\n",
    "mu = float(Earth.gravitational_parameter.in_unit(Derived.Unit.gravitational_parameter(Length.Unit.Meter, Time.Unit.Second)))\n",
    "\n",
    "v_2_rough = np.sqrt(mu / (np.linalg.norm(n) * np.linalg.norm(d))) * (np.cross(d, x_2, -1) / np.linalg.norm(x_2) + s)"
   ]
  },
  {
   "cell_type": "code",
   "execution_count": null,
   "metadata": {},
   "outputs": [],
   "source": [
    "print(f'x_2 = {x_2 / 1e3} (km)')\n",
    "print(f'v_2_rough = {v_2_rough / 1e3} (km/s)')"
   ]
  },
  {
   "cell_type": "markdown",
   "metadata": {},
   "source": [
    "---"
   ]
  },
  {
   "cell_type": "markdown",
   "metadata": {},
   "source": [
    "## Optimization"
   ]
  },
  {
   "cell_type": "code",
   "execution_count": null,
   "metadata": {},
   "outputs": [],
   "source": [
    "optimization_interval = (t_1, t_1 + analysis_duration)"
   ]
  },
  {
   "cell_type": "code",
   "execution_count": null,
   "metadata": {},
   "outputs": [],
   "source": [
    "ref_orbit_df = generate_orbit_df(ref_orbit, optimization_interval, step)"
   ]
  },
  {
   "cell_type": "code",
   "execution_count": null,
   "metadata": {},
   "outputs": [],
   "source": [
    "def d_orbit (v):\n",
    "    \n",
    "    orbit = generate_orbit(\n",
    "        epoch = t_2,\n",
    "        x = x_2,\n",
    "        v = v\n",
    "    )\n",
    "    \n",
    "    orbit_df = generate_orbit_df(orbit, optimization_interval, step)\n",
    "    \n",
    "    dx = ref_orbit_df[['$x_{x}^{ECI}$', '$x_{y}^{ECI}$', '$x_{z}^{ECI}$']].to_numpy() \\\n",
    "    - orbit_df[['$x_{x}^{ECI}$', '$x_{y}^{ECI}$', '$x_{z}^{ECI}$']].to_numpy()\n",
    "    \n",
    "    dx_ECI_norm = np.linalg.norm(\n",
    "        dx,\n",
    "        axis = 1,\n",
    "    )\n",
    "\n",
    "    return dx_ECI_norm"
   ]
  },
  {
   "cell_type": "markdown",
   "metadata": {},
   "source": [
    "This notebook uses scipy and existing solvers. Soon OSTk will feature those directly !"
   ]
  },
  {
   "cell_type": "code",
   "execution_count": null,
   "metadata": {
    "lines_to_next_cell": 2
   },
   "outputs": [],
   "source": [
    "res = scipy.optimize.least_squares(\n",
    "    d_orbit,\n",
    "    v_2_rough\n",
    ")"
   ]
  },
  {
   "cell_type": "code",
   "execution_count": null,
   "metadata": {},
   "outputs": [],
   "source": [
    "v_2 = res.x"
   ]
  },
  {
   "cell_type": "code",
   "execution_count": null,
   "metadata": {},
   "outputs": [],
   "source": [
    "orbit = generate_orbit(\n",
    "    epoch = t_2,\n",
    "    x = x_2,\n",
    "    v = v_2\n",
    ")"
   ]
  },
  {
   "cell_type": "code",
   "execution_count": null,
   "metadata": {},
   "outputs": [],
   "source": [
    "print(f'x_2 = {x_2 / 1e3} (km)')\n",
    "print(f'v_2 = {v_2 / 1e3} (km/s)')"
   ]
  },
  {
   "cell_type": "code",
   "execution_count": null,
   "metadata": {},
   "outputs": [],
   "source": [
    "validation_interval = (t_1 + analysis_duration * 1, t_1 + analysis_duration * 2)"
   ]
  },
  {
   "cell_type": "code",
   "execution_count": null,
   "metadata": {},
   "outputs": [],
   "source": [
    "ref_orbit_df = generate_orbit_df(ref_orbit, validation_interval, step)\n",
    "orbit_df = generate_orbit_df(orbit, validation_interval, step)\n",
    "\n",
    "dx_ECI_norm = np.linalg.norm(\n",
    "    ref_orbit_df[['$x_{x}^{ECI}$', '$x_{y}^{ECI}$', '$x_{z}^{ECI}$']].to_numpy()\n",
    "    - orbit_df[['$x_{x}^{ECI}$', '$x_{y}^{ECI}$', '$x_{z}^{ECI}$']].to_numpy(),\n",
    "    axis = 1\n",
    ") / 1e3\n",
    "\n",
    "dv_ECI_norm = np.linalg.norm(\n",
    "    ref_orbit_df[['$v_{x}^{ECI}$', '$v_{y}^{ECI}$', '$v_{z}^{ECI}$']].to_numpy()\n",
    "    - orbit_df[['$v_{x}^{ECI}$', '$v_{y}^{ECI}$', '$v_{z}^{ECI}$']].to_numpy(),\n",
    "    axis = 1\n",
    ") / 1e3\n",
    "\n",
    "print(f'Min. |Δx_ECI|: {min(dx_ECI_norm):.3f} [km]')\n",
    "print(f'Avg. |Δx_ECI|: {np.mean(dx_ECI_norm):.3f} [km]')\n",
    "print(f'Max. |Δx_ECI|: {max(dx_ECI_norm):.3f} [km]')\n",
    "print('\\n')\n",
    "print(f'Min. |Δv_ECI|: {min(dv_ECI_norm):.3f} [km/s]')\n",
    "print(f'Avg. |Δv_ECI|: {np.mean(dv_ECI_norm):.3f} [km/s]')\n",
    "print(f'Max. |Δv_ECI|: {max(dv_ECI_norm):.3f} [km/s]')\n",
    "\n",
    "def mean(x):\n",
    "    return np.mean(x) * np.ones(np.shape(x))\n",
    "\n",
    "data = [\n",
    "    dx_ECI_norm,\n",
    "    dv_ECI_norm\n",
    "]\n",
    "\n",
    "figure = go.FigureWidget(make_subplots(rows = len(data), cols = 1))\n",
    "\n",
    "for (i, d) in enumerate(data):\n",
    "\n",
    "    figure.append_trace(\n",
    "        go.Scatter(\n",
    "            y = d,\n",
    "            mode = 'lines+markers',\n",
    "            marker_size = 3,\n",
    "            marker_symbol = 'cross',\n",
    "            line_width = 1,\n",
    "        ),\n",
    "        row = i + 1,\n",
    "        col = 1\n",
    "    )\n",
    "\n",
    "    figure.append_trace(\n",
    "        go.Scatter(\n",
    "            y = mean(d),\n",
    "            mode = 'lines',\n",
    "            line = dict(\n",
    "                color = 'rgb(0, 0, 0)',\n",
    "                width = 1\n",
    "            ),\n",
    "        ),\n",
    "        row = i + 1,\n",
    "        col = 1\n",
    "    )\n",
    "\n",
    "figure.update_xaxes(title_text = 'Time (min)', row = len(data), col = 1)\n",
    "figure.update_yaxes(title_text = '|Δx_ECI| (km)', row = 1, col = 1)\n",
    "figure.update_yaxes(title_text = '|Δv_ECI| (km/s)', row = 2, col = 1)\n",
    "\n",
    "figure.update_layout(showlegend = False)\n",
    "\n",
    "figure.show()"
   ]
  },
  {
   "cell_type": "markdown",
   "metadata": {},
   "source": [
    "---"
   ]
  },
  {
   "cell_type": "markdown",
   "metadata": {},
   "source": [
    "## Visualization"
   ]
  },
  {
   "cell_type": "markdown",
   "metadata": {},
   "source": [
    "Orbit:"
   ]
  },
  {
   "cell_type": "code",
   "execution_count": null,
   "metadata": {},
   "outputs": [],
   "source": [
    "orbit_df.head()"
   ]
  },
  {
   "cell_type": "markdown",
   "metadata": {},
   "source": [
    "2D plot, over **World Map**:"
   ]
  },
  {
   "cell_type": "code",
   "execution_count": null,
   "metadata": {
    "tags": []
   },
   "outputs": [],
   "source": [
    "figure = go.Figure(\n",
    "    data = [\n",
    "        go.Scattergeo(\n",
    "            lon = orbit_df['$Longitude$'],\n",
    "            lat = orbit_df['$Latitude$'],\n",
    "            mode = 'lines',\n",
    "            line = go.scattergeo.Line(\n",
    "                width = 1,\n",
    "                color = 'gray'\n",
    "            )\n",
    "        )\n",
    "    ],\n",
    "    layout = go.Layout(\n",
    "        title = None,\n",
    "        showlegend = False,\n",
    "        height=1000,\n",
    "        geo = go.layout.Geo(\n",
    "            showland = True,\n",
    "            landcolor = 'rgb(243, 243, 243)',\n",
    "            countrycolor = 'rgb(204, 204, 204)'\n",
    "        )\n",
    "    )\n",
    ")\n",
    "\n",
    "figure.show()"
   ]
  },
  {
   "cell_type": "markdown",
   "metadata": {},
   "source": [
    "3D plot, in **Earth Fixed** frame:"
   ]
  },
  {
   "cell_type": "code",
   "execution_count": null,
   "metadata": {
    "jupyter": {
     "source_hidden": true
    }
   },
   "outputs": [],
   "source": [
    "figure = go.Figure(\n",
    "    data = [\n",
    "        go.Scattergeo(\n",
    "            lon = orbit_df['$Longitude$'],\n",
    "            lat = orbit_df['$Latitude$'],\n",
    "            mode = 'lines',\n",
    "            line = go.scattergeo.Line(\n",
    "                width = 1,\n",
    "                color = 'rgba(255, 0, 0, 0.5)'\n",
    "            )\n",
    "        )\n",
    "    ],\n",
    "    layout = go.Layout(\n",
    "        title = None,\n",
    "        showlegend = False,\n",
    "        width = 800,\n",
    "        height = 800,\n",
    "        geo = go.layout.Geo(\n",
    "            showland = True,\n",
    "            showlakes = True,\n",
    "            showcountries = False,\n",
    "            showocean = True,\n",
    "            countrywidth = 0.0,\n",
    "            landcolor = 'rgb(100, 100, 100)',\n",
    "            lakecolor = 'rgb(240, 240, 240)',\n",
    "            oceancolor = 'rgb(240, 240, 240)',\n",
    "            projection = dict( \n",
    "                type = 'orthographic',\n",
    "                rotation = dict(\n",
    "                    lon = -100,\n",
    "                    lat = 40,\n",
    "                    roll = 0\n",
    "                )            \n",
    "            ),\n",
    "            lonaxis = dict( \n",
    "                showgrid = True,\n",
    "                gridcolor = 'rgb(102, 102, 102)',\n",
    "                gridwidth = 0.5\n",
    "            ),\n",
    "            lataxis = dict( \n",
    "                showgrid = True,\n",
    "                gridcolor = 'rgb(102, 102, 102)',\n",
    "                gridwidth = 0.5\n",
    "            )\n",
    "        )\n",
    "    )\n",
    ")\n",
    "\n",
    "figure.show()"
   ]
  },
  {
   "cell_type": "markdown",
   "metadata": {},
   "source": [
    "---"
   ]
  },
  {
   "cell_type": "markdown",
   "metadata": {},
   "source": [
    "Generate a new TLE using STK."
   ]
  },
  {
   "cell_type": "code",
   "execution_count": null,
   "metadata": {},
   "outputs": [],
   "source": [
    "..."
   ]
  },
  {
   "cell_type": "markdown",
   "metadata": {},
   "source": [
    "Define obtained TLE:"
   ]
  },
  {
   "cell_type": "code",
   "execution_count": null,
   "metadata": {},
   "outputs": [],
   "source": [
    "new_tle = TLE(\n",
    "    '1 99993U          21181.86036100  .00000000  00000-0  00000-0 0 00009',\n",
    "    '2 99993 097.5023 310.6314 0013147 265.4618 127.4558 15.12561269000014'\n",
    ")"
   ]
  },
  {
   "cell_type": "markdown",
   "metadata": {},
   "source": [
    "or patch a TLE from estimated state vector, in this notebook:"
   ]
  },
  {
   "cell_type": "code",
   "execution_count": null,
   "metadata": {},
   "outputs": [],
   "source": [
    "def epoch_from_instant (instant):\n",
    "    \n",
    "    date_time = instant.get_date_time(Scale.UTC).replace(tzinfo = datetime.timezone.utc)\n",
    "    \n",
    "    year = int(f'{date_time.year}'[2:])\n",
    "    year_day = date_time.timetuple().tm_yday\n",
    "    day_fraction = (date_time.hour * 3600e6 + date_time.minute * 60e6 + date_time.second * 1e6 + date_time.microsecond) / 86400e6\n",
    "    \n",
    "    return year * 1000 + year_day + day_fraction\n",
    "\n",
    "def update_checksum (tle_line: str) -> str:\n",
    "\n",
    "    assert len(tle_line) == 69\n",
    "\n",
    "    tle_line_digits: str = ''.join(filter(str.isdigit, tle_line[0:68]))\n",
    "\n",
    "    checksum: int = sum(int(a) for a in tle_line_digits) + tle_line[0:68].count('-')\n",
    "\n",
    "    return tle_line[0:68] + str(checksum % 10)\n",
    "\n",
    "def patch_tle_from_coe (coe):\n",
    "    \n",
    "    line1 = '1 99994U          21176.78890016  .00000000  00000-0  00000-0 0 00009'\n",
    "    line2 = '2 99994 097.4948 296.8998 0009655 246.0231 250.6116 15.12610161000013'\n",
    "    \n",
    "    line1 = list(line1)\n",
    "    line2 = list(line2)\n",
    "    \n",
    "    line1[18:32] = f'{epoch_from_instant(t_2):.8f}'.zfill(14)\n",
    "    \n",
    "    line2[8:16] = f'{float(coe.get_inclination().in_degrees()):.4f}'.zfill(8)\n",
    "    line2[17:25] = f'{float(coe.get_raan().in_degrees()):.4f}'.zfill(8)\n",
    "    line2[26:33] = f'{float(coe.get_eccentricity()):.7f}'[2:].zfill(7)\n",
    "    line2[34:42] = f'{float(coe.get_aop().in_degrees()):.4f}'.zfill(8) \n",
    "    line2[43:51] = f'{float(coe.get_mean_anomaly().in_degrees()):.4f}'.zfill(8) \n",
    "    \n",
    "    # coe.get_mean_motion might be broken\n",
    "    sma = float(coe.get_semi_major_axis().in_meters())\n",
    "    mean_motion = np.sqrt(mu / sma**3) * 86400 / (2 * np.pi)\n",
    "    line2[52:63] = f'{mean_motion:.8f}'.zfill(11)\n",
    "    \n",
    "    line1 = ''.join(line1)\n",
    "    line2 = ''.join(line2)\n",
    "\n",
    "    line1 = update_checksum(line1)\n",
    "    line2 = update_checksum(line2)\n",
    "    \n",
    "    return (line1, line2)"
   ]
  },
  {
   "cell_type": "code",
   "execution_count": null,
   "metadata": {},
   "outputs": [],
   "source": [
    "def d_tle (v):\n",
    "    \n",
    "    coe = COE.cartesian(\n",
    "        [\n",
    "            Position.meters(x_2, Frame.GCRF()),\n",
    "            Velocity.meters_per_second(v, Frame.GCRF())\n",
    "        ],\n",
    "        Earth.gravitational_parameter\n",
    "    )\n",
    "    \n",
    "    patched_tle = patch_tle_from_coe(coe)\n",
    "    \n",
    "    tle = TLE(\n",
    "        patched_tle[0],\n",
    "        patched_tle[1]\n",
    "    )\n",
    "    \n",
    "    orbit = Orbit(SGP4(tle), earth)\n",
    "\n",
    "    try:\n",
    "        orbit_df = generate_orbit_df(orbit, optimization_interval, step)\n",
    "    except RuntimeError:\n",
    "        return 1e15\n",
    "    \n",
    "    dx = ref_orbit_df[['$x_{x}^{ECI}$', '$x_{y}^{ECI}$', '$x_{z}^{ECI}$']].to_numpy() \\\n",
    "    - orbit_df[['$x_{x}^{ECI}$', '$x_{y}^{ECI}$', '$x_{z}^{ECI}$']].to_numpy()\n",
    "    \n",
    "    dx_ECI_norm = np.linalg.norm(\n",
    "        dx,\n",
    "        axis = 1,\n",
    "    )\n",
    "\n",
    "    return dx_ECI_norm"
   ]
  },
  {
   "cell_type": "code",
   "execution_count": null,
   "metadata": {},
   "outputs": [],
   "source": [
    "# res = scipy.optimize.least_squares(\n",
    "#     d_tle,\n",
    "#     v_2\n",
    "# )"
   ]
  },
  {
   "cell_type": "code",
   "execution_count": null,
   "metadata": {},
   "outputs": [],
   "source": [
    "# coe = COE.cartesian(\n",
    "#     [\n",
    "#         Position.meters(x_2, Frame.GCRF()),\n",
    "#         Velocity.meters_per_second(res.x, Frame.GCRF())\n",
    "#     ],\n",
    "#     Earth.gravitational_parameter\n",
    "# )\n",
    "\n",
    "# patched_tle = patch_tle_from_coe(coe)\n",
    "\n",
    "# new_tle = TLE(\n",
    "#     patched_tle[0],\n",
    "#     patched_tle[1]\n",
    "# )\n",
    "\n",
    "# print(new_tle)"
   ]
  },
  {
   "cell_type": "markdown",
   "metadata": {},
   "source": [
    "Compare trajectories using initial and new TLE."
   ]
  },
  {
   "cell_type": "code",
   "execution_count": null,
   "metadata": {},
   "outputs": [],
   "source": [
    "ref_orbit_df = generate_orbit_df(ref_orbit, validation_interval, step)\n",
    "\n",
    "new_tle_orbit = Orbit(SGP4(new_tle), earth)\n",
    "\n",
    "new_tle_orbit_df = generate_orbit_df(new_tle_orbit, validation_interval, step)\n",
    "\n",
    "dx_ECI_norm = np.linalg.norm(\n",
    "    ref_orbit_df[['$x_{x}^{ECI}$', '$x_{y}^{ECI}$', '$x_{z}^{ECI}$']].to_numpy()\n",
    "    - new_tle_orbit_df[['$x_{x}^{ECI}$', '$x_{y}^{ECI}$', '$x_{z}^{ECI}$']].to_numpy(),\n",
    "    axis = 1\n",
    ") / 1e3\n",
    "\n",
    "dv_ECI_norm = np.linalg.norm(\n",
    "    ref_orbit_df[['$v_{x}^{ECI}$', '$v_{y}^{ECI}$', '$v_{z}^{ECI}$']].to_numpy()\n",
    "    - new_tle_orbit_df[['$v_{x}^{ECI}$', '$v_{y}^{ECI}$', '$v_{z}^{ECI}$']].to_numpy(),\n",
    "    axis = 1\n",
    ") / 1e3\n",
    "\n",
    "print(f'Min. |Δx_ECI|: {min(dx_ECI_norm):.3f} [km]')\n",
    "print(f'Avg. |Δx_ECI|: {np.mean(dx_ECI_norm):.3f} [km]')\n",
    "print(f'Max. |Δx_ECI|: {max(dx_ECI_norm):.3f} [km]')\n",
    "print('\\n')\n",
    "print(f'Min. |Δv_ECI|: {min(dv_ECI_norm):.3f} [km/s]')\n",
    "print(f'Avg. |Δv_ECI|: {np.mean(dv_ECI_norm):.3f} [km/s]')\n",
    "print(f'Max. |Δv_ECI|: {max(dv_ECI_norm):.3f} [km/s]')\n",
    "\n",
    "def mean(x):\n",
    "    return np.mean(x) * np.ones(np.shape(x))\n",
    "\n",
    "data = [\n",
    "    dx_ECI_norm,\n",
    "    dv_ECI_norm\n",
    "]\n",
    "\n",
    "figure = go.FigureWidget(make_subplots(rows = len(data), cols = 1))\n",
    "\n",
    "for (i, d) in enumerate(data):\n",
    "\n",
    "    figure.append_trace(\n",
    "        go.Scatter(\n",
    "            y = d,\n",
    "            mode = 'lines+markers',\n",
    "            marker_size = 3,\n",
    "            marker_symbol = 'cross',\n",
    "            line_width = 1,\n",
    "        ),\n",
    "        row = i + 1,\n",
    "        col = 1\n",
    "    )\n",
    "\n",
    "    figure.append_trace(\n",
    "        go.Scatter(\n",
    "            y = mean(d),\n",
    "            mode = 'lines',\n",
    "            line = dict(\n",
    "                color = 'rgb(0, 0, 0)',\n",
    "                width = 1\n",
    "            ),\n",
    "        ),\n",
    "        row = i + 1,\n",
    "        col = 1\n",
    "    )\n",
    "\n",
    "figure.update_xaxes(title_text = 'Time (min)', row = len(data), col = 1)\n",
    "figure.update_yaxes(title_text = '|Δx_ECI| (km)', row = 1, col = 1)\n",
    "figure.update_yaxes(title_text = '|Δv_ECI| (km/s)', row = 2, col = 1)\n",
    "\n",
    "figure.update_layout(showlegend = False)\n",
    "\n",
    "figure.show()"
   ]
  },
  {
   "cell_type": "markdown",
   "metadata": {},
   "source": [
    "---"
   ]
  }
 ],
 "metadata": {
  "jupytext": {
   "encoding": "# -*- coding: utf-8 -*-",
   "formats": "ipynb,py:light"
  },
  "kernelspec": {
   "display_name": "Python 3",
   "language": "python",
   "name": "python3"
  },
  "language_info": {
   "codemirror_mode": {
    "name": "ipython",
    "version": 3
   },
   "file_extension": ".py",
   "mimetype": "text/x-python",
   "name": "python",
   "nbconvert_exporter": "python",
   "pygments_lexer": "ipython3",
   "version": "3.9.2"
  }
 },
 "nbformat": 4,
 "nbformat_minor": 4
}
