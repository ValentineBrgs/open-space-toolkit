{
 "cells": [
  {
   "cell_type": "markdown",
   "metadata": {},
   "source": [
    "# Orbit Determination using Unscented Kalman Filter"
   ]
  },
  {
   "cell_type": "markdown",
   "metadata": {},
   "source": [
    "This tutorial demonstrates how to implement an Unscented Kalman Filter (UKF) for orbit determination. \n",
    "\n",
    "Soon filters and methods will be implemented directly in OSTk and be usable in a couple of lines of code only ! This notebook uses GNSS Data."
   ]
  },
  {
   "cell_type": "markdown",
   "metadata": {},
   "source": [
    "## Setup"
   ]
  },
  {
   "cell_type": "code",
   "execution_count": null,
   "metadata": {},
   "outputs": [],
   "source": [
    "import os\n",
    "import datetime\n",
    "from dateutil import parser\n",
    "\n",
    "import numpy as np\n",
    "import pandas as pd\n",
    "\n",
    "import plotly.graph_objs as go\n",
    "from plotly.subplots import make_subplots\n",
    "\n",
    "from scipy.linalg import sqrtm\n",
    "\n",
    "from ostk.mathematics.objects import RealInterval\n",
    "\n",
    "from ostk.physics.units import Length\n",
    "from ostk.physics.units import Angle\n",
    "from ostk.physics.units import Time\n",
    "from ostk.physics.units import Derived\n",
    "from ostk.physics.time import Scale\n",
    "from ostk.physics.time import Instant\n",
    "from ostk.physics.time import Duration\n",
    "from ostk.physics.time import Interval\n",
    "from ostk.physics.time import DateTime\n",
    "from ostk.physics.coordinate import Position\n",
    "from ostk.physics.coordinate import Velocity\n",
    "from ostk.physics.coordinate.spherical import LLA\n",
    "from ostk.physics.coordinate.spherical import AER\n",
    "from ostk.physics.coordinate import Frame\n",
    "from ostk.physics import Environment\n",
    "from ostk.physics.environment.objects.celestial_bodies import Earth\n",
    "\n",
    "from ostk.astrodynamics import Trajectory\n",
    "from ostk.astrodynamics.trajectory import Orbit\n",
    "from ostk.astrodynamics.trajectory.orbit.models import Kepler\n",
    "from ostk.astrodynamics.trajectory.orbit.models.kepler import COE\n",
    "from ostk.astrodynamics.trajectory.orbit.models import SGP4\n",
    "from ostk.astrodynamics.trajectory.orbit.models.sgp4 import TLE\n",
    "from ostk.astrodynamics import Access\n",
    "from ostk.astrodynamics.access import Generator as AccessGenerator"
   ]
  },
  {
   "cell_type": "code",
   "execution_count": null,
   "metadata": {},
   "outputs": [],
   "source": [
    "def convert_state (instant, state):\n",
    "    \n",
    "    '''\n",
    "    Using ECI (GCRF) reference frame.\n",
    "    '''\n",
    "    \n",
    "    return [\n",
    "        repr(instant),\n",
    "        *state.get_position().in_frame(Frame.GCRF(), instant).get_coordinates().transpose().tolist(),\n",
    "        *state.get_velocity().in_frame(state.get_position(), Frame.GCRF(), instant).get_coordinates().transpose().tolist(),\n",
    "    ]\n",
    "\n",
    "def generate_orbit_df (orbit, instants, step):\n",
    "\n",
    "    orbit_data = [\n",
    "        convert_state(instant, orbit.get_state_at(instant))\n",
    "        for instant in instants\n",
    "    ]\n",
    "\n",
    "    return pd.DataFrame(\n",
    "        orbit_data,\n",
    "        columns =\n",
    "            [\n",
    "                'Time (ISO-YMD)',\n",
    "                'x_ECI (m)', 'y_ECI (m)', 'z_ECI (m)', 'vx_ECI (m/sec)', 'vy_ECI (m/sec)', 'vz_ECI (m/sec)'\n",
    "            ]\n",
    "    )"
   ]
  },
  {
   "cell_type": "code",
   "execution_count": null,
   "metadata": {},
   "outputs": [],
   "source": [
    "def w (dim, cov):\n",
    "    return np.random.multivariate_normal(np.zeros(dim), cov)\n",
    "\n",
    "def g (C_t, X_t):\n",
    "    return np.dot(C_t, X_t)"
   ]
  },
  {
   "cell_type": "code",
   "execution_count": null,
   "metadata": {},
   "outputs": [],
   "source": [
    "def UT (mu, Sigma, lda = 2):\n",
    "\n",
    "    '''\n",
    "    Unscented Transform.\n",
    "    '''\n",
    "\n",
    "    n = len(mu)\n",
    "\n",
    "    xtab = np.zeros((2 * n + 1, n))\n",
    "    wtab = np.ones((2 * n + 1, 1)) / 2 / (lda + n)\n",
    "\n",
    "    xtab[0] = mu\n",
    "    wtab[0] = lda / (lda + n)\n",
    "\n",
    "    S = sqrtm((lda + n) * Sigma)\n",
    "\n",
    "    for i in range(1, n + 1):\n",
    "\n",
    "        xtab[i] = mu + S[:, i - 1]\n",
    "        xtab[i + n] = mu - S[:, i - 1] \n",
    "\n",
    "    assert np.sum(wtab) == 1\n",
    "\n",
    "    return xtab, wtab\n",
    "\n",
    "\n",
    "def UTi (xtab, wtab):\n",
    "\n",
    "    '''\n",
    "    Inverse Unscented Transform.\n",
    "    '''\n",
    "\n",
    "    mu = np.sum(xtab * wtab, axis = 0)\n",
    "    xh = xtab - mu\n",
    "    Sigma = np.dot(xh.T, xh * wtab)\n",
    "\n",
    "    return mu, Sigma\n",
    "\n",
    "def UKF (X, Y, mu0, Sigma0, Q, R):\n",
    "\n",
    "    '''\n",
    "    Unscented Kalman Filter.\n",
    "    '''\n",
    "\n",
    "    T, n = X.shape\n",
    "\n",
    "    mu = np.zeros((T, n))\n",
    "    Sigma = np.zeros((T, n, n))\n",
    "\n",
    "    mu[0, :] = mu0\n",
    "    Sigma[0, :, :] = Sigma0\n",
    "    \n",
    "    for t in range(1, T):\n",
    "\n",
    "        # Predict\n",
    "\n",
    "        # Compute sigma-points and weights\n",
    "        xtab, wtab = UT(mu[t - 1, :], Sigma[t - 1, :, :])\n",
    "\n",
    "        for i in range(0, len(xtab)):\n",
    "            xtab[i] = next_state(ref_orbit, instants, t-1)\n",
    "        \n",
    "        # Predict mean and covariance\n",
    "        mu[t, :], Sigma[t, :, :] = UTi(xtab, wtab)\n",
    "        Sigma[t,:,:] += Q\n",
    "        \n",
    "        # Update\n",
    "\n",
    "        # Recompute sigma-points with predictions\n",
    "        xtab, wtab = UT(mu[t, :], Sigma[t, :, :])\n",
    "        \n",
    "        # Sigma-point measurements\n",
    "        ytab = np.zeros((2 * n + 1, n))\n",
    "\n",
    "        for i in range(0, len(xtab)):\n",
    "            ytab[i] = g(np.eye(n), xtab[i])\n",
    "        \n",
    "        # Expected measurement\n",
    "        yh = np.sum(ytab * wtab, axis = 0)\n",
    "        \n",
    "        # Empirical covariances\n",
    "        Sigma_y = np.dot((ytab - yh).T, wtab * (ytab - yh))\n",
    "        Sigma_y += R\n",
    "        Sigma_xy = np.dot((xtab - mu[t, :]).T, wtab * (ytab - yh))\n",
    "        \n",
    "        # Update\n",
    "        K = np.dot(Sigma_xy, np.linalg.inv(Sigma_y))\n",
    "        mu[t, :] += np.dot(K, (Y[t, :] - yh))\n",
    "        Sigma[t, :, :] -= np.dot(K, Sigma_xy.T)\n",
    "\n",
    "    return mu, Sigma"
   ]
  },
  {
   "cell_type": "code",
   "execution_count": null,
   "metadata": {},
   "outputs": [],
   "source": [
    "def next_state (orbit, instants, t):\n",
    "    \n",
    "    next_state = orbit.get_state_at(instants[t + 1])\n",
    "\n",
    "    return [\n",
    "        *next_state.get_position().in_frame(Frame.GCRF(), instants[t + 1]).get_coordinates().transpose().tolist(),\n",
    "        *next_state.get_velocity().in_frame(next_state.get_position(), Frame.GCRF(), instants[t + 1]).get_coordinates().transpose().tolist()\n",
    "    ]"
   ]
  },
  {
   "cell_type": "markdown",
   "metadata": {},
   "source": [
    "---"
   ]
  },
  {
   "cell_type": "code",
   "execution_count": null,
   "metadata": {},
   "outputs": [],
   "source": [
    "step = Duration.seconds(1.0)"
   ]
  },
  {
   "cell_type": "markdown",
   "metadata": {},
   "source": [
    "---"
   ]
  },
  {
   "cell_type": "markdown",
   "metadata": {},
   "source": [
    "Bootstrap environment:"
   ]
  },
  {
   "cell_type": "code",
   "execution_count": null,
   "metadata": {},
   "outputs": [],
   "source": [
    "earth = Environment.default().access_celestial_object_with_name('Earth')"
   ]
  },
  {
   "cell_type": "markdown",
   "metadata": {},
   "source": [
    "## Reference Trajectory"
   ]
  },
  {
   "cell_type": "code",
   "execution_count": null,
   "metadata": {},
   "outputs": [],
   "source": [
    "tle = TLE(\n",
    "    '1 99994U          21181.85503887  .00000000  00000-0  00000-0 0 00000',\n",
    "    '2 99994 097.5068 310.6402 0011081 218.2042 145.7731 15.12723100000014'\n",
    ")\n",
    "\n",
    "ref_orbit = Orbit(SGP4(tle), earth)"
   ]
  },
  {
   "cell_type": "code",
   "execution_count": null,
   "metadata": {},
   "outputs": [],
   "source": [
    "tle.get_epoch()"
   ]
  },
  {
   "cell_type": "markdown",
   "metadata": {},
   "source": [
    "---"
   ]
  },
  {
   "cell_type": "markdown",
   "metadata": {},
   "source": [
    "## Configuration"
   ]
  },
  {
   "cell_type": "markdown",
   "metadata": {},
   "source": [
    "Instants:"
   ]
  },
  {
   "cell_type": "code",
   "execution_count": null,
   "metadata": {},
   "outputs": [],
   "source": [
    "orbit_file = f'data/gps_2021070209270000Z_202107020930000Z.csv'\n",
    "\n",
    "all_measured_profile_df = pd.read_csv(os.path.join(os.getcwd(), orbit_file))[\n",
    "    [\n",
    "        'Timestamp',\n",
    "        'vel_eci_x', 'vel_eci_y', 'vel_eci_z', 'pos_eci_x', 'pos_eci_y', 'pos_eci_z'\n",
    "    ]\n",
    "]"
   ]
  },
  {
   "cell_type": "markdown",
   "metadata": {},
   "source": [
    "Trim data to use for training only (using a series of continuous data at the moment)"
   ]
  },
  {
   "cell_type": "code",
   "execution_count": null,
   "metadata": {},
   "outputs": [],
   "source": [
    "start = 0\n",
    "measured_profile_df = all_measured_profile_df"
   ]
  },
  {
   "cell_type": "code",
   "execution_count": null,
   "metadata": {},
   "outputs": [],
   "source": [
    "measured_profile_df"
   ]
  },
  {
   "cell_type": "markdown",
   "metadata": {},
   "source": [
    "Generate a time grid:"
   ]
  },
  {
   "cell_type": "code",
   "execution_count": null,
   "metadata": {},
   "outputs": [],
   "source": [
    "instants = [\n",
    "#     Instant.date_time(datetime.datetime.strptime(measured_profile_df['Timestamp'][index + start], \"%Y-%m-%d %H:%M:%S\"), Scale.UTC)\n",
    "    Instant.date_time(parser.parse(measured_profile_df['Timestamp'][index + start]).replace(tzinfo = datetime.timezone.utc), Scale.UTC)\n",
    "    for (index, _) in enumerate(measured_profile_df['Timestamp'])\n",
    "]"
   ]
  },
  {
   "cell_type": "code",
   "execution_count": null,
   "metadata": {},
   "outputs": [],
   "source": [
    "start_instant = instants[0]\n",
    "end_instant = instants[-1]"
   ]
  },
  {
   "cell_type": "code",
   "execution_count": null,
   "metadata": {},
   "outputs": [],
   "source": [
    "ref_orbit_df = generate_orbit_df(ref_orbit, instants, step)"
   ]
  },
  {
   "cell_type": "code",
   "execution_count": null,
   "metadata": {},
   "outputs": [],
   "source": [
    "# pd.set_option(\"display.max_rows\", None, \"display.max_columns\", None)\n",
    "ref_orbit_df"
   ]
  },
  {
   "cell_type": "code",
   "execution_count": null,
   "metadata": {},
   "outputs": [],
   "source": [
    "measurement_instants = instants"
   ]
  },
  {
   "cell_type": "markdown",
   "metadata": {},
   "source": [
    "---"
   ]
  },
  {
   "cell_type": "code",
   "execution_count": null,
   "metadata": {},
   "outputs": [],
   "source": [
    "# Covariance of process noise\n",
    "Q = np.diag([1e0, 1e0, 1e0, 1e-3, 1e-3, 1e-3])\n",
    "\n",
    "# Covariance of measurement noise\n",
    "R = np.diag([1e3, 1e3, 1e3, 1e-1, 1e-1, 1e-1])\n",
    "\n",
    "mu0 = np.array([\n",
    "    *ref_orbit.get_state_at(start_instant).get_position().in_frame(Frame.GCRF(), start_instant).get_coordinates().transpose().tolist(),\n",
    "    *ref_orbit.get_state_at(start_instant).get_velocity().in_frame(ref_orbit.get_state_at(start_instant).get_position(), Frame.GCRF(), start_instant).get_coordinates().transpose().tolist()\n",
    "]) \\\n",
    "+ np.random.multivariate_normal(np.zeros(6), R)\n",
    "\n",
    "Sigma0 = np.diag([1e0, 1e0, 1e0, 1e-3, 1e-3, 1e-3])\n",
    "\n",
    "ref_orbit_states = np.array([\n",
    "    [\n",
    "        *ref_orbit.get_state_at(instant).get_position().get_coordinates().transpose().tolist(),\n",
    "        *ref_orbit.get_state_at(instant).get_velocity().get_coordinates().transpose().tolist()\n",
    "    ]\n",
    "    for instant in instants\n",
    "]) \\\n",
    "+ np.array(\n",
    "    [\n",
    "        np.random.multivariate_normal(np.zeros(6), Q)\n",
    "        for instant in instants\n",
    "    ]\n",
    ") # process noise\n",
    "\n",
    "measurements = np.array([\n",
    "    [\n",
    "        measured_profile_df['pos_eci_x'][index + start],\n",
    "        measured_profile_df['pos_eci_y'][index + start],\n",
    "        measured_profile_df['pos_eci_z'][index + start],\n",
    "        measured_profile_df['vel_eci_x'][index + start],\n",
    "        measured_profile_df['vel_eci_y'][index + start],\n",
    "        measured_profile_df['vel_eci_z'][index + start],\n",
    "    ]\n",
    "    for (index, _) in enumerate(instants)\n",
    "]) \\\n",
    "+ np.array(\n",
    "    [\n",
    "        np.random.multivariate_normal(np.zeros(6), R)\n",
    "        for instant in instants\n",
    "    ]\n",
    ") # measurement noise\n",
    "\n",
    "mu_UKF, _ = UKF(\n",
    "    X = ref_orbit_states,\n",
    "    Y = measurements,\n",
    "    mu0 = mu0,\n",
    "    Sigma0 = Sigma0,\n",
    "    Q = Q,\n",
    "    R = R\n",
    ")"
   ]
  },
  {
   "cell_type": "markdown",
   "metadata": {},
   "source": [
    "---"
   ]
  },
  {
   "cell_type": "code",
   "execution_count": null,
   "metadata": {},
   "outputs": [],
   "source": [
    "dx_ECI_norm = np.linalg.norm(\n",
    "    ref_orbit_df[['x_ECI (m)', 'y_ECI (m)', 'z_ECI (m)']].to_numpy()\n",
    "    - mu_UKF[:, 0:3],\n",
    "    axis = 1\n",
    ")\n",
    "\n",
    "dv_ECI_norm = np.linalg.norm(\n",
    "    ref_orbit_df[['vx_ECI (m/sec)', 'vy_ECI (m/sec)', 'vz_ECI (m/sec)']].to_numpy()\n",
    "    - mu_UKF[:, 3:6],\n",
    "    axis = 1\n",
    ")\n",
    "\n",
    "print(f'Min. |Δx_ECI|: {min(dx_ECI_norm):.3f} [m]')\n",
    "print(f'Avg. |Δx_ECI|: {np.mean(dx_ECI_norm):.3f} [m]')\n",
    "print(f'Max. |Δx_ECI|: {max(dx_ECI_norm):.3f} [m]')\n",
    "print('\\n')\n",
    "print(f'Min. |Δv_ECI|: {min(dv_ECI_norm):.3f} [m/s]')\n",
    "print(f'Avg. |Δv_ECI|: {np.mean(dv_ECI_norm):.3f} [m/s]')\n",
    "print(f'Max. |Δv_ECI|: {max(dv_ECI_norm):.3f} [m/s]')\n",
    "\n",
    "def mean(x):\n",
    "    return np.mean(x) * np.ones(np.shape(x))\n",
    "\n",
    "data = [\n",
    "    dx_ECI_norm,\n",
    "    dv_ECI_norm\n",
    "]\n",
    "\n",
    "figure = go.FigureWidget(make_subplots(rows = len(data), cols = 1))\n",
    "\n",
    "for (i, d) in enumerate(data):\n",
    "\n",
    "    figure.append_trace(\n",
    "        go.Scatter(\n",
    "            y = d,\n",
    "            mode = 'lines+markers',\n",
    "            marker_size = 3,\n",
    "            marker_symbol = 'cross',\n",
    "            line_width = 1,\n",
    "        ),\n",
    "        row = i + 1,\n",
    "        col = 1\n",
    "    )\n",
    "\n",
    "    figure.append_trace(\n",
    "        go.Scatter(\n",
    "            y = mean(d),\n",
    "            mode = 'lines',\n",
    "            line = dict(\n",
    "                color = 'rgb(0, 0, 0)',\n",
    "                width = 1\n",
    "            ),\n",
    "        ),\n",
    "        row = i + 1,\n",
    "        col = 1\n",
    "    )\n",
    "\n",
    "figure.update_xaxes(title_text = 'Time points', row = len(data), col = 1)\n",
    "figure.update_yaxes(title_text = '|Δx_ECI| (m)', row = 1, col = 1)\n",
    "figure.update_yaxes(title_text = '|Δv_ECI| (m/s)', row = 2, col = 1)\n",
    "\n",
    "figure.update_layout(showlegend = False)\n",
    "\n",
    "figure.show()"
   ]
  },
  {
   "cell_type": "code",
   "execution_count": null,
   "metadata": {},
   "outputs": [],
   "source": [
    "# analysis_instant = instants[-1]\n",
    "analysis_instant = instants[int(len(instants) / 2)]"
   ]
  },
  {
   "cell_type": "code",
   "execution_count": null,
   "metadata": {},
   "outputs": [],
   "source": [
    "mu_UKF[instants.index(analysis_instant), 0:3]"
   ]
  },
  {
   "cell_type": "code",
   "execution_count": null,
   "metadata": {},
   "outputs": [],
   "source": [
    "mu_UKF[instants.index(analysis_instant), 3:6]"
   ]
  },
  {
   "cell_type": "markdown",
   "metadata": {},
   "source": [
    "---"
   ]
  },
  {
   "cell_type": "markdown",
   "metadata": {},
   "source": [
    "Estimated state at analysis instant:"
   ]
  },
  {
   "cell_type": "code",
   "execution_count": null,
   "metadata": {},
   "outputs": [],
   "source": [
    "analysis_instant"
   ]
  },
  {
   "cell_type": "code",
   "execution_count": null,
   "metadata": {},
   "outputs": [],
   "source": [
    "Position.meters(\n",
    "    mu_UKF[instants.index(analysis_instant), 0:3],\n",
    "    Frame.GCRF()\n",
    ")"
   ]
  },
  {
   "cell_type": "code",
   "execution_count": null,
   "metadata": {},
   "outputs": [],
   "source": [
    "Velocity.meters_per_second(\n",
    "    mu_UKF[instants.index(analysis_instant), 3:6],\n",
    "    Frame.GCRF()\n",
    ")"
   ]
  },
  {
   "cell_type": "markdown",
   "metadata": {},
   "source": [
    "---"
   ]
  },
  {
   "cell_type": "markdown",
   "metadata": {},
   "source": [
    "Reference state at analysis instant:"
   ]
  },
  {
   "cell_type": "code",
   "execution_count": null,
   "metadata": {},
   "outputs": [],
   "source": [
    "ref_orbit.get_state_at(analysis_instant).in_frame(Frame.GCRF())"
   ]
  },
  {
   "cell_type": "markdown",
   "metadata": {},
   "source": [
    "---"
   ]
  }
 ],
 "metadata": {
  "jupytext": {
   "encoding": "# -*- coding: utf-8 -*-",
   "formats": "ipynb,py:light"
  },
  "kernelspec": {
   "display_name": "Python 3",
   "language": "python",
   "name": "python3"
  },
  "language_info": {
   "codemirror_mode": {
    "name": "ipython",
    "version": 3
   },
   "file_extension": ".py",
   "mimetype": "text/x-python",
   "name": "python",
   "nbconvert_exporter": "python",
   "pygments_lexer": "ipython3",
   "version": "3.9.2"
  }
 },
 "nbformat": 4,
 "nbformat_minor": 4
}
